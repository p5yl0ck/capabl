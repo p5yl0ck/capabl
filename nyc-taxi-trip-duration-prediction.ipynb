{
 "cells": [
  {
   "cell_type": "markdown",
   "metadata": {
    "_uuid": "04b0d1595631ae52c2e7edddad0473ca0cde7aa7"
   },
   "source": [
    "<a id=problem></a>\n",
    "# The Problem\n",
    "***\n",
    "Build a machine learning model to predict the duration of NYC taxi trip."
   ]
  },
  {
   "cell_type": "markdown",
   "metadata": {
    "_uuid": "8fa31e609d5dc2e1e51dc6e940791cb0c48724b0"
   },
   "source": [
    "<a id=path></a>\n",
    "## Set Local Path\n",
    "We need to set the local path to read and write to the file."
   ]
  },
  {
   "cell_type": "code",
   "execution_count": null,
   "metadata": {
    "_uuid": "effa0e6d666f34ae2ec475780821a3ab0e6471c3"
   },
   "outputs": [],
   "source": [
    "path=\"C:/Users/karan/Machine Learning1/Summer Internship project/data/\""
   ]
  },
  {
   "cell_type": "markdown",
   "metadata": {
    "_uuid": "e264df5a239dd45495653bb84e485629407d4985"
   },
   "source": [
    "<a id=library></a>\n",
    "## Import libraries"
   ]
  },
  {
   "cell_type": "code",
   "execution_count": null,
   "metadata": {
    "_uuid": "0365d02b66929639d44d8f45a396715e9d60b60f"
   },
   "outputs": [],
   "source": [
    "import numpy as np\n",
    "import pandas as pd\n",
    "import seaborn as sns\n",
    "import matplotlib.pyplot as plt\n",
    "import datetime as dt\n",
    "from sklearn.linear_model import LinearRegression\n",
    "from sklearn.ensemble import RandomForestRegressor\n",
    "from xgboost import XGBRegressor\n",
    "from sklearn import metrics\n",
    "from sklearn.model_selection import train_test_split, GridSearchCV\n",
    "import statsmodels.api as sm\n",
    "from sklearn.model_selection import learning_curve\n",
    "from sklearn.model_selection import ShuffleSplit\n",
    "import warnings; warnings.simplefilter('ignore')"
   ]
  },
  {
   "cell_type": "code",
   "execution_count": null,
   "metadata": {
    "scrolled": true
   },
   "outputs": [],
   "source": [
    "from haversine import haversine"
   ]
  },
  {
   "cell_type": "markdown",
   "metadata": {
    "_uuid": "bd944bb64df9e2cf2cac018611a6ffaa042a52fd"
   },
   "source": [
    "<a id=data></a>\n",
    "## Import Dataset"
   ]
  },
  {
   "cell_type": "code",
   "execution_count": null,
   "metadata": {
    "_uuid": "498c5bdadf87b3eba3ef4bf4a2511c834680f325"
   },
   "outputs": [],
   "source": [
    "#import the data from a csv file.\n",
    "data = pd.read_csv(path+\"train.csv\")"
   ]
  },
  {
   "cell_type": "markdown",
   "metadata": {
    "_uuid": "f85a9c46863c0bc5f000260b4d787c6607babd73"
   },
   "source": [
    "<a id=explore></a>\n",
    "## Data Exploration\n",
    "We will explore the data and modify dataset as per the our requirment for the further analysis of the problem."
   ]
  },
  {
   "cell_type": "code",
   "execution_count": null,
   "metadata": {
    "_uuid": "112b62364355d772694e1b218e615745ee9a30a0",
    "scrolled": true
   },
   "outputs": [],
   "source": [
    "data.head()"
   ]
  },
  {
   "cell_type": "markdown",
   "metadata": {
    "_uuid": "ac5a5006a71f9df2ad027d0d5936286505cc2fec"
   },
   "source": [
    "### Feature details:\n",
    "- id - a unique identifier for each trip\n",
    "- vendor_id - a code indicating the provider associated with the trip record\n",
    "- pickup_datetime - date and time when the meter was engaged\n",
    "- dropoff_datetime - date and time when the meter was disengaged\n",
    "- passenger_count - the number of passengers in the vehicle (driver entered value)\n",
    "- pickup_longitude - the longitude where the meter was engaged\n",
    "- pickup_latitude - the latitude where the meter was engaged\n",
    "- dropoff_longitude - the longitude where the meter was disengaged\n",
    "- dropoff_latitude - the latitude where the meter was disengaged\n",
    "- store_and_fwd_flag - This flag indicates whether the trip record was held in vehicle memory before sending to the vendor because the vehicle did not have a connection to the server - Y=store and forward; N=not a store and forward trip.\n",
    "\n",
    "### Label details:\n",
    "- trip_duration - duration of the trip in seconds "
   ]
  },
  {
   "cell_type": "code",
   "execution_count": null,
   "metadata": {
    "_uuid": "fa365758f29666f6d436c61c4570a58154f0dee0",
    "scrolled": false
   },
   "outputs": [],
   "source": [
    "#Check shape of dataset\n",
    "data.shape "
   ]
  },
  {
   "cell_type": "markdown",
   "metadata": {
    "_uuid": "0c2ea874d2f1244f9732271516d13107cd74b550"
   },
   "source": [
    "There are approx **1.5 million records** in our dataset."
   ]
  },
  {
   "cell_type": "code",
   "execution_count": null,
   "metadata": {
    "_uuid": "57b653b3b3272b2c14fda6b362d883fb6d6fec6f",
    "scrolled": true
   },
   "outputs": [],
   "source": [
    "#Check count of unique id's in the dataset\n",
    "print(\"There are %d unique id's in Training dataset, which is equal to the number of records\"%(data.id.nunique()))"
   ]
  },
  {
   "cell_type": "code",
   "execution_count": null,
   "metadata": {
    "_uuid": "0b888eb98531eb29ff102fa4aa457895dfa9aac4"
   },
   "outputs": [],
   "source": [
    "#Check for NaN values\n",
    "data.isnull().sum()"
   ]
  },
  {
   "cell_type": "markdown",
   "metadata": {
    "_uuid": "775d97844d432668c8f83964db604591adac3654"
   },
   "source": [
    "There is no NaN/NULL record in the dataset, So we dont have to impute any record."
   ]
  },
  {
   "cell_type": "code",
   "execution_count": null,
   "metadata": {
    "_uuid": "cb46340e8b8994278a3e8f7ee08ec9c50b296900"
   },
   "outputs": [],
   "source": [
    "#Convert timestamp to datetime format to fetch the other details as listed below\n",
    "data['pickup_datetime'] = pd.to_datetime(data['pickup_datetime'])\n",
    "data['dropoff_datetime'] = pd.to_datetime(data['dropoff_datetime'])"
   ]
  },
  {
   "cell_type": "code",
   "execution_count": null,
   "metadata": {
    "_uuid": "003c47226ebf2e899d799a29ffdf894967ad9d42"
   },
   "outputs": [],
   "source": [
    "#Calculate and assign new columns to the dataframe such as weekday,\n",
    "#month and pickup_hour which will help us to gain more insights from the data.\n",
    "data['weekday'] = data.pickup_datetime.dt.day_name\n",
    "data['month'] = data.pickup_datetime.dt.month\n",
    "data['weekday_num'] = data.pickup_datetime.dt.weekday\n",
    "data['pickup_hour'] = data.pickup_datetime.dt.hour"
   ]
  },
  {
   "cell_type": "code",
   "execution_count": null,
   "metadata": {
    "_uuid": "0fb0301271e2fba01697d80667d489702a5bce32"
   },
   "outputs": [],
   "source": [
    "#calc_distance is a function to calculate distance between pickup and dropoff coordinates using Haversine formula.\n",
    "def calc_distance(df):\n",
    "    pickup = (df['pickup_latitude'], df['pickup_longitude'])\n",
    "    drop = (df['dropoff_latitude'], df['dropoff_longitude'])\n",
    "    return haversine(pickup, drop)"
   ]
  },
  {
   "cell_type": "code",
   "execution_count": null,
   "metadata": {
    "_uuid": "7c1fcff7d0343bbc1c7162d44863b7e8c8f37c88"
   },
   "outputs": [],
   "source": [
    "#Calculate distance and assign new column to the dataframe.\n",
    "data['distance'] = data.apply(lambda x: calc_distance(x), axis = 1)"
   ]
  },
  {
   "cell_type": "code",
   "execution_count": null,
   "metadata": {
    "_uuid": "d5e4b4c8b943b0d62e7f3a6660b8530c6ecb7dcb"
   },
   "outputs": [],
   "source": [
    "#Calculate Speed in km/h for further insights\n",
    "data['speed'] = (data.distance/(data.trip_duration/3600))"
   ]
  },
  {
   "cell_type": "code",
   "execution_count": null,
   "metadata": {
    "_uuid": "543f479dbaed4bdc2ce47bc20561a10e9f594bb9"
   },
   "outputs": [],
   "source": [
    "#Check the type of each variable\n",
    "data.dtypes.reset_index()"
   ]
  },
  {
   "cell_type": "code",
   "execution_count": null,
   "metadata": {
    "_uuid": "b8cac7294ce4ae44c50670db5173e1fb6d8c0093"
   },
   "outputs": [],
   "source": [
    "#Dummify all the categorical features like \"store_and_fwd_flag, vendor_id, month, weekday_num, pickup_hour, passenger_count\" except the label i.e. \"trip_duration\"\n",
    "\n",
    "dummy = pd.get_dummies(data.store_and_fwd_flag, prefix='flag')\n",
    "dummy.drop(dummy.columns[0], axis=1, inplace=True) #avoid dummy trap\n",
    "data = pd.concat([data,dummy], axis = 1)\n",
    "\n",
    "dummy = pd.get_dummies(data.vendor_id, prefix='vendor_id')\n",
    "dummy.drop(dummy.columns[0], axis=1, inplace=True) #avoid dummy trap\n",
    "data = pd.concat([data,dummy], axis = 1)\n",
    "\n",
    "dummy = pd.get_dummies(data.month, prefix='month')\n",
    "dummy.drop(dummy.columns[0], axis=1, inplace=True) #avoid dummy trap\n",
    "data = pd.concat([data,dummy], axis = 1)\n",
    "\n",
    "dummy = pd.get_dummies(data.weekday_num, prefix='weekday_num')\n",
    "dummy.drop(dummy.columns[0], axis=1, inplace=True) #avoid dummy trap\n",
    "data = pd.concat([data,dummy], axis = 1)\n",
    "\n",
    "dummy = pd.get_dummies(data.pickup_hour, prefix='pickup_hour')\n",
    "dummy.drop(dummy.columns[0], axis=1, inplace=True) #avoid dummy trap\n",
    "data = pd.concat([data,dummy], axis = 1)\n",
    "\n",
    "dummy = pd.get_dummies(data.passenger_count, prefix='passenger_count')\n",
    "dummy.drop(dummy.columns[0], axis=1, inplace=True) #avoid dummy trap\n",
    "data = pd.concat([data,dummy], axis = 1)"
   ]
  },
  {
   "cell_type": "code",
   "execution_count": null,
   "metadata": {
    "_uuid": "1e0b31c1b6ce2e1eb73bb2b5e1adf0e5d619bef9",
    "scrolled": true
   },
   "outputs": [],
   "source": [
    "data.head()"
   ]
  },
  {
   "cell_type": "markdown",
   "metadata": {
    "_uuid": "412f4512273ef86e15961f8132e48c5b97bf202e"
   },
   "source": [
    "Now our dataset is complete for the further analysis before we train our model with optimal variables."
   ]
  },
  {
   "cell_type": "code",
   "execution_count": null,
   "metadata": {
    "_uuid": "5817b83abd020420b7a9c0625efd53592acd46da",
    "scrolled": true
   },
   "outputs": [],
   "source": [
    "pd.options.display.float_format = '{:.2f}'.format #To suppres scientific notation.\n",
    "data.passenger_count.value_counts()"
   ]
  },
  {
   "cell_type": "code",
   "execution_count": null,
   "metadata": {
    "_uuid": "bc0c8411b5066b792bb05c7b59073b227707ba4f"
   },
   "outputs": [],
   "source": [
    "plt.figure(figsize = (20,5))\n",
    "sns.boxplot(data.passenger_count)\n",
    "plt.show()"
   ]
  },
  {
   "cell_type": "markdown",
   "metadata": {
    "_uuid": "884f3299c02db8f2bad8942af46eea22dbe4be74"
   },
   "source": [
    "### Observations:\n",
    "- There are some trips with 0 passenger count. \n",
    "- Few trips consisted of even 7, 8 or 9 passengers. Clear outliers and pointers to data inconsistency\n",
    "- Most of trip consist of passenger either 1 or 2.\n",
    "\n",
    "### Idea:\n",
    "Passenger count is a driver entered value. Since the trip is not possible without passengers. It is evident that the driver forgot to enter the value for the trips with 0 passenger count. Lets analyze the passenger count distribution further to make it consistent for further analysis"
   ]
  },
  {
   "cell_type": "code",
   "execution_count": null,
   "metadata": {
    "_uuid": "ea7aa64f9fd208d9ee5cefb2f160952b565bb5f8"
   },
   "outputs": [],
   "source": [
    "data.passenger_count.describe()"
   ]
  },
  {
   "cell_type": "markdown",
   "metadata": {
    "_uuid": "954dbb242e2dfb0e6cef0545f13e463714cc4b35"
   },
   "source": [
    "As per above details. Mean median and mode are all approx equal to 1. So we would replace the 0 passenger count with 1."
   ]
  },
  {
   "cell_type": "code",
   "execution_count": null,
   "metadata": {
    "_uuid": "124c52630ec05b01bf514baa0e7031d1293e4285"
   },
   "outputs": [],
   "source": [
    "data['passenger_count'] = data.passenger_count.map(lambda x: 1 if x == 0 else x)"
   ]
  },
  {
   "cell_type": "markdown",
   "metadata": {
    "_uuid": "2494b46435269d29e5981d33787a665d6a1aadbd"
   },
   "source": [
    "Also, we will remove the records with passenger count > 7, 8 or 9 as they are extreme values and looks very odd to be ocupied in a taxi. "
   ]
  },
  {
   "cell_type": "code",
   "execution_count": null,
   "metadata": {
    "_uuid": "984be875e126287978449f7e7abcbd3f6836f42d"
   },
   "outputs": [],
   "source": [
    "data = data[data.passenger_count <= 6]"
   ]
  },
  {
   "cell_type": "code",
   "execution_count": null,
   "metadata": {
    "_uuid": "44d5f3f7c6091d3ff0b895ad5e14139e9bd45996",
    "scrolled": true
   },
   "outputs": [],
   "source": [
    "data.passenger_count.value_counts()"
   ]
  },
  {
   "cell_type": "markdown",
   "metadata": {
    "_uuid": "62c732d146caeb62485ba71ba4d94c3b8f7ea683"
   },
   "source": [
    "Now the data is consistent with respect to the passenger count. Let's take a look at the ditribution with a graph below"
   ]
  },
  {
   "cell_type": "code",
   "execution_count": null,
   "metadata": {
    "_uuid": "281ff8162256950d21c5060a134f6e02831b43a4"
   },
   "outputs": [],
   "source": [
    "sns.countplot(data.passenger_count)\n",
    "plt.show()"
   ]
  },
  {
   "cell_type": "markdown",
   "metadata": {
    "_uuid": "3bb2f50804af82fcc58b57e0eb4cedab3717a624"
   },
   "source": [
    "It is evident that most of the trips was taken by single passenger and that is inline with our day to day observations"
   ]
  },
  {
   "cell_type": "markdown",
   "metadata": {
    "_uuid": "990b582be52e01cc87e8ead84638f5bcc11c5f9a"
   },
   "source": [
    "<a id=vendor></a>\n",
    "## Vendor\n",
    "***\n",
    "Here we analyze taxi data only for the 2 vendors which are listed as 1 and 2 in the datset."
   ]
  },
  {
   "cell_type": "code",
   "execution_count": null,
   "metadata": {
    "_uuid": "7993ecdf60867a2a3cb17ec07427f7de3917ca86",
    "scrolled": true
   },
   "outputs": [],
   "source": [
    "sns.countplot(data.vendor_id)\n",
    "plt.show()"
   ]
  },
  {
   "cell_type": "markdown",
   "metadata": {
    "_uuid": "cfd2c0f9d55645e564469e01b2488142677947f1"
   },
   "source": [
    "Though both the vendors seems to have almost equal market share. But Vendor 2 is evidently more famous among the population as per the above graph."
   ]
  },
  {
   "cell_type": "code",
   "execution_count": null,
   "metadata": {
    "_uuid": "bad31fa0f90151e69971aae7b5e5cba242733b5a"
   },
   "outputs": [],
   "source": [
    "print(data.distance.describe())"
   ]
  },
  {
   "cell_type": "code",
   "execution_count": null,
   "metadata": {
    "_uuid": "ed3c72fa33955faed635e008159f243219052f90",
    "scrolled": true
   },
   "outputs": [],
   "source": [
    "plt.figure(figsize = (20,5))\n",
    "sns.boxplot(data.distance)\n",
    "plt.show()"
   ]
  },
  {
   "cell_type": "markdown",
   "metadata": {
    "_uuid": "2046011b7102b6ac1e44d63e02773e82511f3e35"
   },
   "source": [
    "### Interesting find:\n",
    "- There some trips with over 100 km distance.\n",
    "- Some of the trips distance value is 0 km.\n",
    "\n",
    "### Observations:\n",
    "- mean distance travelled is approx 3.5 kms.\n",
    "- standard deviation of 4.3 which shows that most of the trips are limited to the range of 1-10 kms."
   ]
  },
  {
   "cell_type": "code",
   "execution_count": null,
   "metadata": {
    "_uuid": "e9875f50de6543ce1e46fb432d1f0b8e20231fa6"
   },
   "outputs": [],
   "source": [
    "print(\"There are {} trip records with 0 km distance\".format(data.distance[data.distance == 0 ].count()))"
   ]
  },
  {
   "cell_type": "code",
   "execution_count": null,
   "metadata": {
    "_uuid": "65c93402df9742ff6e6d7a29e4c22f70297f7273"
   },
   "outputs": [],
   "source": [
    "data[data.distance == 0 ].head()"
   ]
  },
  {
   "cell_type": "markdown",
   "metadata": {
    "_uuid": "92b0d98ae1c12d56e8c7ae915ad9f6eb6c54872b"
   },
   "source": [
    "### Observations\n",
    "- Around 6K trip record with distance equal to 0. Below are some possible explanation for such records.\n",
    " 1. Customer changed mind and cancelled the journey just after accepting it.\n",
    " 2. Software didn't recorded dropoff location properly due to which dropoff location is the same as the pickup location.\n",
    " 3. Issue with GPS tracker while the journey is being finished.\n",
    " 4. Driver cancelled the trip just after accepting it due to some reason. So the trip couldn't start\n",
    " 5. Or some other issue with the software itself which a technical guy can explain\n",
    "\n",
    "There is some serious inconsistencies in the data where drop off location is same as the pickup location. We can't think off imputing the distance values considering a correlation with the duration because the dropoff_location coordinates would not be inline with the distance otherwise. We will look more to it in bivariate analysis with the Trip duration."
   ]
  },
  {
   "cell_type": "code",
   "execution_count": null,
   "metadata": {
    "_uuid": "6c79b25ef0509cb909bad7d8e4b2f66a8c37c12c",
    "scrolled": true
   },
   "outputs": [],
   "source": [
    "data.distance.groupby(pd.cut(data.distance, np.arange(0,100,10))).count().plot(kind='barh')\n",
    "plt.show()"
   ]
  },
  {
   "cell_type": "markdown",
   "metadata": {
    "_uuid": "901f5bddab2fe28d7cf5a4b7514278c962b0454b"
   },
   "source": [
    "From the above observation it is evident that most of the rides are completed between 1-10 Kms with some of the rides with distances between 10-30 kms. Other slabs bar are not visible because the number of trips are very less as compared to these slabs"
   ]
  },
  {
   "cell_type": "code",
   "execution_count": null,
   "metadata": {
    "_uuid": "3c171e0611f6ff1c7f6ac6e6b83df5479086b88b",
    "scrolled": true
   },
   "outputs": [],
   "source": [
    "data.trip_duration.describe()"
   ]
  },
  {
   "cell_type": "code",
   "execution_count": null,
   "metadata": {
    "_uuid": "3aa39f87af1fafa8c07d1264fd969e720960318e"
   },
   "outputs": [],
   "source": [
    "plt.figure(figsize = (20,5))\n",
    "sns.boxplot(data.trip_duration)\n",
    "plt.show()"
   ]
  },
  {
   "cell_type": "markdown",
   "metadata": {
    "_uuid": "0afc803b94128d0b586fb8d012e97c1ef5f3fc31"
   },
   "source": [
    "### Interesting find:\n",
    "- Some trip durations are over 100000 seconds which are clear outliers and should be removed.\n",
    "\n",
    "### Observations:\n",
    " - There are some durations with as low as 1 second. which points towards trips with 0 km distance.\n",
    " - Major trip durations took between 10-20 mins to complete.\n",
    " - Mean and mode are not same which shows that trip duration distribution is skewed towards right.\n",
    "\n",
    "Let's analyze more"
   ]
  },
  {
   "cell_type": "code",
   "execution_count": null,
   "metadata": {
    "_uuid": "205f5d478db63fedaa4c2c685d2fc7082e78b8c6",
    "scrolled": true
   },
   "outputs": [],
   "source": [
    "data.trip_duration.groupby(pd.cut(data.trip_duration, np.arange(1,max(data.trip_duration),3600))).count()"
   ]
  },
  {
   "cell_type": "markdown",
   "metadata": {
    "_uuid": "975302397d15378a2c6af9aeeffcde30769a1f55"
   },
   "source": [
    "### Observations:\n",
    " - There are some trips with more than 24 hours of travel duration i.e. 86400 seconds. Which might have occured on weekends for the outstation travels.\n",
    " - Major chunk of trips are completed within an interval of 1 hour with some good numbers of trips duration going above 1 hour.\n",
    " \n",
    "Let's look at those trips with huge duration, these are outliers and should be removed for the data consistency."
   ]
  },
  {
   "cell_type": "code",
   "execution_count": null,
   "metadata": {
    "_uuid": "8d9f838d0c5397d559e41463186ae14c7c671e66"
   },
   "outputs": [],
   "source": [
    "data[data.trip_duration > 86400]"
   ]
  },
  {
   "cell_type": "markdown",
   "metadata": {
    "_uuid": "28b04e171c17ecf563c7a375302685b300747ee1"
   },
   "source": [
    "### Observations:\n",
    " - These trips ran for more than 20 days, which seems unlikely by the distance travelled.\n",
    " - All the trips are taken by vendor 1 which points us to the fact that this vendor might allows much longer trip for outstations.\n",
    " - All these trips are either taken on Tuesday's in 1st month or Saturday's in 2nd month. There might be some relation with the weekday, pickup location, month and the passenger.\n",
    " - But they fail our purpose of correct prediction and bring inconsistencies in the algorithm calculation.\n",
    " \n",
    "We should get rid of them for the sake of data consistency. Those are **black** swans !!"
   ]
  },
  {
   "cell_type": "code",
   "execution_count": null,
   "metadata": {
    "_uuid": "82d64bd4839dfb2b5b1a0c84bbc03b3a34f1d43a"
   },
   "outputs": [],
   "source": [
    "data = data[data.trip_duration <= 86400]"
   ]
  },
  {
   "cell_type": "markdown",
   "metadata": {
    "_uuid": "79e6271daf3784a7c7b2e3450beea04addb7db8b"
   },
   "source": [
    "Let's visualize the number of trips taken in slabs of 0-10, 20-30 ... minutes respectively"
   ]
  },
  {
   "cell_type": "code",
   "execution_count": null,
   "metadata": {
    "_uuid": "c9f35f9cc9ef2bbd35e77d298f5c40258dad546d",
    "scrolled": true
   },
   "outputs": [],
   "source": [
    "data.trip_duration.groupby(pd.cut(data.trip_duration, np.arange(1,7200,600))).count().plot(kind='barh')\n",
    "plt.xlabel('Trip Counts')\n",
    "plt.ylabel('Trip Duration (seconds)')\n",
    "plt.show()"
   ]
  },
  {
   "cell_type": "markdown",
   "metadata": {
    "_uuid": "ec131cc01b76cd3ff351159c63b790d6fcc407f5"
   },
   "source": [
    "We can observe that most of the trips took 0 - 30 mins to complete i.e. approx 1800 secs. Let's move ahead to next feature."
   ]
  },
  {
   "cell_type": "code",
   "execution_count": null,
   "metadata": {
    "_uuid": "d4d9d12a8c5fd6234be8826d57f9fd591b31b307"
   },
   "outputs": [],
   "source": [
    "data.speed.describe()"
   ]
  },
  {
   "cell_type": "code",
   "execution_count": null,
   "metadata": {
    "_uuid": "b16d5ff9b544841b8810ff6bfdca09a97d7f5a1c"
   },
   "outputs": [],
   "source": [
    "plt.figure(figsize = (20,5))\n",
    "sns.boxplot(data.speed)\n",
    "plt.show()"
   ]
  },
  {
   "cell_type": "markdown",
   "metadata": {
    "_uuid": "9532100c5dbc350d0703a2c2d54964efb40805b9"
   },
   "source": [
    "### Interesting find:\n",
    "- Many trips were done at a speed of over 200 km/h. Going SuperSonic..!!\n",
    "\n",
    "Let's remove them and focus on the trips which were done at less than 104 km/h as per the speed limits"
   ]
  },
  {
   "cell_type": "code",
   "execution_count": null,
   "metadata": {
    "_uuid": "26d92f0493395e114cee75f0e105b2da8b14eaad",
    "scrolled": true
   },
   "outputs": [],
   "source": [
    "data = data[data.speed <= 104]\n",
    "plt.figure(figsize = (20,5))\n",
    "sns.boxplot(data.speed)\n",
    "plt.show()"
   ]
  },
  {
   "cell_type": "markdown",
   "metadata": {
    "_uuid": "af7abf326d3f413962e2c0727c5b4455e5e46954"
   },
   "source": [
    "### Observations:\n",
    "- Trips over 30 km/h are being considered as outliers but we cannot ignore them because they are well under the highest speed limit of 104 km/h on state controlled highways.\n",
    "- Mostly trips are done at a speed range of 10-20 km/h with an average speed of around 14 km/h.\n",
    "\n",
    "Let's take a look at the speed range ditribution with the help of graph."
   ]
  },
  {
   "cell_type": "code",
   "execution_count": null,
   "metadata": {
    "_uuid": "d365ff76f677f7917f553bce1570c6f2cec34d3c",
    "scrolled": true
   },
   "outputs": [],
   "source": [
    "data.speed.groupby(pd.cut(data.speed, np.arange(0,104,10))).count().plot(kind = 'barh')\n",
    "plt.xlabel('Trip count')\n",
    "plt.ylabel('Speed (Km/H)')\n",
    "plt.show()"
   ]
  },
  {
   "cell_type": "markdown",
   "metadata": {
    "_uuid": "b3378a81fce7a5006629d44f6d865b28f72ac5fb"
   },
   "source": [
    "It is evident from this graph what we thought off earlier i.e. most of the trips were done at a speed range of 10-20 km/H."
   ]
  },
  {
   "cell_type": "markdown",
   "metadata": {
    "_uuid": "c3f2105e53dd4e2061cf2403467e0d93353453e2"
   },
   "source": [
    "<a id=flag></a>\n",
    "## Store_and_fwd_flag\n",
    "***\n",
    "This flag indicates whether the trip record was held in vehicle memory before sending to the vendor because the vehicle did not have a connection to the server - Y=store and forward; N=not a store and forward trip."
   ]
  },
  {
   "cell_type": "code",
   "execution_count": null,
   "metadata": {
    "_uuid": "b2a0b697af9cfa60aff1d4ff94de72ccf985ded8"
   },
   "outputs": [],
   "source": [
    "data.flag_Y.value_counts(normalize=True)"
   ]
  },
  {
   "cell_type": "markdown",
   "metadata": {
    "_uuid": "93255811f76cc6e435d63e9b6cd3dbe5c9748f1d"
   },
   "source": [
    "### Observations: \n",
    "- Above result shows that only about 1% of the trip details were stored in the vehicle first before sending it to the server. This might have occured because of the following reasons:\n",
    " 1. Outstation trips didn't had proper connection at the time when trip completes.\n",
    " 2. Temporary loss of signals while the trip was about to finish\n",
    " 3. Inconsistent signal reception over the trip duration.\n",
    " 4. The GPS or mobile device battery was down when the trip finished.\n",
    "\n",
    "Let's check further\n"
   ]
  },
  {
   "cell_type": "code",
   "execution_count": null,
   "metadata": {
    "_uuid": "b68164f08770e5090449972eba73d24abddfef68"
   },
   "outputs": [],
   "source": [
    "data.flag_Y.value_counts()"
   ]
  },
  {
   "cell_type": "markdown",
   "metadata": {
    "_uuid": "5cc4a2c72baf30eb73779ab28973587b4dee2477"
   },
   "source": [
    "Above result shows that around 8K trips had to store the flag and then report to the server when the connection was established. Let's check the respective distribution with the vendors for the offline trips."
   ]
  },
  {
   "cell_type": "code",
   "execution_count": null,
   "metadata": {
    "_uuid": "e1b0d81f400bac14a956b83c736015d31e5645d0"
   },
   "outputs": [],
   "source": [
    "data.vendor_id[data.flag_Y == 1].value_counts()"
   ]
  },
  {
   "cell_type": "markdown",
   "metadata": {
    "_uuid": "b2cb615798ea5b635f567f45ab1444d6afc9d61f"
   },
   "source": [
    "### Observations:\n",
    "- Above result shows that all the offline trips were taken by vendor 1. We already know that vendor 2 has greater market share as compared to vendor 1. So, there can be two reasons for this scenario.\n",
    "\n",
    " 1. Either vendor 1 utilizes advance technology then vendor 2 to store and forward trip details in case of temporary signal loss.\n",
    " 2. Or vendor 1 uses poor infrastructure which often suffers from the server connection instability due to which they have to store the trip info in the vehicle and send it to the server later when the server connection is back.\n",
    "\n",
    "Let's check if there is some relation to the other metrics for these trips?"
   ]
  },
  {
   "cell_type": "code",
   "execution_count": null,
   "metadata": {
    "_uuid": "ee4e912ccaee66197902a17fd36e836be1e6564d"
   },
   "outputs": [],
   "source": [
    "data[data.flag_Y == 1]"
   ]
  },
  {
   "cell_type": "markdown",
   "metadata": {
    "_uuid": "f6b5b86ead03f01125553a9de300a391d0cc82cd"
   },
   "source": [
    "### Observations:\n",
    " - Some trips are local some cover longer distance \n",
    " - Almost each day is listed against offline trips.\n",
    " - Offline trips were taken almost at all hours as per the search result.\n",
    " - There is no month which appears to be more dominant in the results.\n",
    " - Even the trip duration covers different scales.\n",
    "\n",
    "So all in all there doesn't seems to be any relation with either of the metric for the offline trips. Let's move ahead"
   ]
  },
  {
   "cell_type": "markdown",
   "metadata": {
    "_uuid": "04ace624a7a3eb42430833d9c5443262c400af8a"
   },
   "source": [
    "<a id=hour_trip></a>\n",
    "## Total trips Per Hour\n",
    "***\n",
    "Let's take a look at the distribution of the pickups across the 24 hour time scale."
   ]
  },
  {
   "cell_type": "code",
   "execution_count": null,
   "metadata": {
    "_uuid": "af0b6ed95d136d6a289b1dd3a19f725743ae30b3"
   },
   "outputs": [],
   "source": [
    "sns.countplot(data.pickup_hour)\n",
    "plt.show()"
   ]
  },
  {
   "cell_type": "markdown",
   "metadata": {
    "_uuid": "470d4c76d10082033841073122192f7636446165"
   },
   "source": [
    "### Observation\n",
    "- It's inline with the general trend of taxi pickups which starts increasing from 6AM in the morning and then declines from late evening i.e. around 8 PM. There is no unusual behavior here."
   ]
  },
  {
   "cell_type": "markdown",
   "metadata": {
    "_uuid": "44eae55a8e5b3972a92dea81c6fd24e007e382f1"
   },
   "source": [
    "<a id=week_trip></a>\n",
    "## Total trips per weekday\n",
    "***\n",
    "Let's take a look now at the distribution of taxi pickups across the week."
   ]
  },
  {
   "cell_type": "code",
   "execution_count": null,
   "metadata": {
    "_uuid": "a149686e83841c4a01e01c48679188c49ad10a2b"
   },
   "outputs": [],
   "source": [
    "plt.figure(figsize = (8,6))\n",
    "sns.countplot(data.weekday_num)\n",
    "plt.xlabel(' Month ')\n",
    "plt.ylabel('Pickup counts')\n",
    "plt.show()"
   ]
  },
  {
   "cell_type": "markdown",
   "metadata": {
    "_uuid": "4975c8def4f61b756b8393e9f78c77f49eae17ab"
   },
   "source": [
    "### Observation\n",
    "- Here we can see an increasing trend of taxi pickups starting from Monday till Friday. The trend starts declining from saturday till monday which is normal where some office going people likes to stay at home for rest on the weekends. \n",
    "\n",
    "Let's drill down more to see the hourwise pickup pattern across the week"
   ]
  },
  {
   "cell_type": "code",
   "execution_count": null,
   "metadata": {
    "_uuid": "fca567e68ead420862411c336f813c0a2e22bf4e"
   },
   "outputs": [],
   "source": [
    "n = sns.FacetGrid(data, col='weekday_num')\n",
    "n.map(plt.hist, 'pickup_hour')\n",
    "plt.show()"
   ]
  },
  {
   "cell_type": "markdown",
   "metadata": {
    "_uuid": "0d36d774451f95cfa6ded2d87d30600a763be88b"
   },
   "source": [
    "### Interesting find:\n",
    " - Taxi pickups increased in the late night hours over the weekend possibly due to more outstation rides or for the late night leisures nearby activities.\n",
    " - Early morning pickups i.e before 5 AM have increased over the weekend in comparison to the office hours pickups i.e. after 7 AM which have decreased due to obvious reasons.\n",
    " - Taxi pickups seems to be consistent across the week at 15 Hours i.e. at 3 PM."
   ]
  },
  {
   "cell_type": "markdown",
   "metadata": {
    "_uuid": "5b7916dfc8319c7e4e6290402413eee8848923da"
   },
   "source": [
    "<a id=month_trip></a>\n",
    "## Total trips per month\n",
    "***\n",
    "Let's take a look at the trip distribution across the months to understand if there is any diffrence in the taxi pickups in different months"
   ]
  },
  {
   "cell_type": "code",
   "execution_count": null,
   "metadata": {
    "_uuid": "55f0fd176f69d45329be24a0f3e0485e10fdbb83"
   },
   "outputs": [],
   "source": [
    "sns.countplot(data.month)\n",
    "plt.ylabel('Trip Counts')\n",
    "plt.xlabel('Months')\n",
    "plt.show()"
   ]
  },
  {
   "cell_type": "markdown",
   "metadata": {
    "_uuid": "85ab586a543393081fd38cad790a87886b03a399"
   },
   "source": [
    "Quite a balance across the months here. It could have been more equivalent if we wouldn't have removed the inconsistent records in our study of the univariate analysis"
   ]
  },
  {
   "cell_type": "markdown",
   "metadata": {
    "_uuid": "708dfb2009e67b9c7ca1e3e9e69fa652e3b03dd3"
   },
   "source": [
    "<a id=hour_duration></a>\n",
    "## Trip Duration per hour\n",
    "***\n",
    "We need to aggregate the total trip duration to plot it agaist the month. The aggregation measure can be anything like sum, mean, median or mode for the duration. Since we already did the outlier analysis, so we can take the mean to visualize the pattern which should not result in the bias of the general trend.\n",
    " - Lets take a look."
   ]
  },
  {
   "cell_type": "code",
   "execution_count": null,
   "metadata": {
    "_uuid": "d774863f9d04638cd6e8836405aa192babd0f290"
   },
   "outputs": [],
   "source": [
    "group1 = data.groupby('pickup_hour').trip_duration.mean()\n",
    "sns.pointplot(group1.index, group1.values)\n",
    "plt.ylabel('Trip Duration (seconds)')\n",
    "plt.xlabel('Pickup Hour')\n",
    "plt.show()"
   ]
  },
  {
   "cell_type": "markdown",
   "metadata": {
    "_uuid": "23bda72d84a20592d1899314bfd419a642193241"
   },
   "source": [
    "### Observations:\n",
    "- Average trip duration is lowest at 6 AM when there is minimal traffic on the roads.\n",
    "- Average trip duration is generally highest around 3 PM during the busy streets.\n",
    "- Trip duration on an average is similar during early morning hours i.e. before 6 AM & late evening hours i.e. after 6 PM."
   ]
  },
  {
   "cell_type": "markdown",
   "metadata": {
    "_uuid": "bf937213d1800d54413f8567b28e4232002337a5"
   },
   "source": [
    "<a id=week_duration></a>\n",
    "## Trip duration per weekday\n",
    "***\n",
    "Let's now analyze the pattern of trip duration during the week."
   ]
  },
  {
   "cell_type": "code",
   "execution_count": null,
   "metadata": {
    "_uuid": "2648dc33fc7f5274c4757ac3d14278f1eee2a8f6"
   },
   "outputs": [],
   "source": [
    "group2 = data.groupby('weekday_num').trip_duration.mean()\n",
    "sns.pointplot(group2.index, group2.values)\n",
    "plt.ylabel('Trip Duration (seconds)')\n",
    "plt.xlabel('Weekday')\n",
    "plt.show()"
   ]
  },
  {
   "cell_type": "markdown",
   "metadata": {
    "_uuid": "28ae8717a7d1c2e59d3c3f1abd7bc462c4b6a7fc"
   },
   "source": [
    "We can see that trip duration is almost equally distributed across the week on a scale of 0-1000 minutes with minimal difference in the duration times. Also, it is observed that trip duration on thursday is longest among all days."
   ]
  },
  {
   "cell_type": "markdown",
   "metadata": {
    "_uuid": "1f70708395b09f990ff7dc8153700d74d694bc33"
   },
   "source": [
    "<a id=month_duration></a>\n",
    "## Trip duration per month\n",
    "***\n",
    "Let's take a look at the trip duration pattern with respect to the different months."
   ]
  },
  {
   "cell_type": "code",
   "execution_count": null,
   "metadata": {
    "_uuid": "683d7dde84c0ddbfc70d5f0a581347f7758adcd1"
   },
   "outputs": [],
   "source": [
    "group3 = data.groupby('month').trip_duration.mean()\n",
    "sns.pointplot(group3.index, group3.values)\n",
    "plt.ylabel('Trip Duration (seconds)')\n",
    "plt.xlabel('Month')\n",
    "plt.show()"
   ]
  },
  {
   "cell_type": "markdown",
   "metadata": {
    "_uuid": "872899f843618b164f4ae05ef30cc9e9dbb22e62"
   },
   "source": [
    "### Observations:\n",
    "- We can see an increasing trend in the average trip duration along with each subsequent month. \n",
    "- The duration difference between each month is not much. It has increased gradually over a period of 6 months.\n",
    "- It is lowest during february when winters starts declining.\n",
    "- There might be some seasonal parameters like wind/rain which can be a factor of this gradual increase in trip duration over a period. Like May is generally the considered as the wettest month in NYC and which is inline with our visualization. As it generally takes longer on the roads due to traffic jams during rainy season. So natually the trip duration would increase towards April May and June."
   ]
  },
  {
   "cell_type": "markdown",
   "metadata": {
    "_uuid": "d850eaedf5285959dc145003f99bb122cc67417f"
   },
   "source": [
    "<a id=vendor_duration></a>\n",
    "## Trip duration per vendor\n",
    "***\n",
    "We can also look at the average difference between the trip duration for each vendor. However we do know that vendor 2 has larger share of the market. Let's visualize."
   ]
  },
  {
   "cell_type": "code",
   "execution_count": null,
   "metadata": {
    "_uuid": "d842c5c306ffddd84a54b895682419f45be01577"
   },
   "outputs": [],
   "source": [
    "group4 = data.groupby('vendor_id').trip_duration.mean()\n",
    "sns.barplot(group4.index, group4.values)\n",
    "plt.ylabel('Trip Duration (seconds)')\n",
    "plt.xlabel('Vendor')\n",
    "plt.show()"
   ]
  },
  {
   "cell_type": "markdown",
   "metadata": {
    "_uuid": "9ebe0fc4ce61bdd1b7134eb723d8f44118e9ebe7"
   },
   "source": [
    "Vendor 2 takes the crown. Average trip duration for vendor 2 is higher than vendor 1 by approx 200 seconds i.e. atleast 3 minutes per trip."
   ]
  },
  {
   "cell_type": "markdown",
   "metadata": {
    "_uuid": "df32190d9fe05079f34b4e31df5fe28930d20451"
   },
   "source": [
    "<a id=flag_duration></a>\n",
    "## Trip duration v/s Flag\n",
    "***\n",
    "Let's visualize if there is any effect of flag setting on the trip duration?"
   ]
  },
  {
   "cell_type": "code",
   "execution_count": null,
   "metadata": {
    "_uuid": "57addc0057d27ccfb9ea6c4a0450882eb0541f2f",
    "scrolled": true
   },
   "outputs": [],
   "source": [
    "plt.figure(figsize = (6,5))\n",
    "plot_dur = data.loc[(data.trip_duration < 10000)]\n",
    "sns.boxplot(x = \"flag_Y\", y = \"trip_duration\", data = plot_dur)\n",
    "plt.show()"
   ]
  },
  {
   "cell_type": "markdown",
   "metadata": {
    "_uuid": "5014930a62cde5fd85111e5254a9c09a573a7eda"
   },
   "source": [
    "### Observations:\n",
    "- Trip durations scale is less for the trips where the flag is set i.e. the trip details are stored before sending it to the server.\n",
    "- Trip duration outliers are also less for the trips with flag 'Y' as compared the trips with flag 'N'.\n",
    "- Trip duration is longer for the trips where the flag is not set.\n",
    "- Inter quartile range of trip duration is more for the trips with the flag 'Y' as compared to the trips with flag 'N' but the median value is almost equal for both."
   ]
  },
  {
   "cell_type": "markdown",
   "metadata": {
    "_uuid": "b76ff1f86612f6e7cea54aaab931d0a1ce9060a9"
   },
   "source": [
    "<a id=hour_distance></a>\n",
    "## Distance per hour\n",
    "***\n",
    "Now, let us check how the distance is distributed against different variables. We know that trip distance must be more or less proportional to the trip duration if we ignore general traffic and other stuff on the road. Let's visualize this for each hour now. \n",
    "\n",
    "Since we have already done the outlier analysis for this variable as well. We can take the mean as aggregate measure for our visualizations."
   ]
  },
  {
   "cell_type": "code",
   "execution_count": null,
   "metadata": {
    "_uuid": "17491f0cd881f804333774d6a8364713dcf237af"
   },
   "outputs": [],
   "source": [
    "group5 = data.groupby('pickup_hour').distance.mean()\n",
    "sns.pointplot(group5.index, group5.values)\n",
    "plt.ylabel('Distance (km)')\n",
    "plt.show()"
   ]
  },
  {
   "cell_type": "markdown",
   "metadata": {
    "_uuid": "657d2db7a746c6a0c725b6432a48439487214c3a"
   },
   "source": [
    "### Observations:\n",
    "- Trip distance is highest during early morning hours which can account for some things like:\n",
    " 1. Outstation trips taken during the weekends.\n",
    " 2. Longer trips towards the city airport which is located in the outskirts of the city.\n",
    "- Trip distance is fairly equal from morning till the evening varying around 3 - 3.5 kms.\n",
    "- It starts increasing gradually towards the late night hours starting from evening till 5 AM and decrease steeply towards morning."
   ]
  },
  {
   "cell_type": "markdown",
   "metadata": {
    "_uuid": "091c3b8aed1c822b7614b98ab2bd44c8043dd004"
   },
   "source": [
    "<a id=week_distance></a>\n",
    "## Distance per weekday\n",
    "***\n",
    "Let's analyze the average trip distance covered on each day of the week."
   ]
  },
  {
   "cell_type": "code",
   "execution_count": null,
   "metadata": {
    "_uuid": "f013aa45d6f8f00282573cdca0f3e5f0011e1738"
   },
   "outputs": [],
   "source": [
    "group6 = data.groupby('weekday_num').distance.mean()\n",
    "sns.pointplot(group6.index, group6.values)\n",
    "plt.ylabel('Distance (km)')\n",
    "plt.show()"
   ]
  },
  {
   "cell_type": "markdown",
   "metadata": {
    "_uuid": "94d5bb50e0b0e86ed4f6ed36110dc5986ed84752"
   },
   "source": [
    "So it's a fairly equal distribution with average distance metric verying around 3.5 km/h with Sunday being at the top may be due to outstation trips or night trips towards the airport."
   ]
  },
  {
   "cell_type": "markdown",
   "metadata": {
    "_uuid": "5f77fe6a96b7877674e94c074a6fcf6fa7e091ac"
   },
   "source": [
    "<a id=month_distance></a>\n",
    "## Distance per month\n",
    "***\n",
    "Now we will look at the average trip distance covered per month."
   ]
  },
  {
   "cell_type": "code",
   "execution_count": null,
   "metadata": {
    "_uuid": "471a2609978832d818ae07a25072ae85245f9f44"
   },
   "outputs": [],
   "source": [
    "group7 = data.groupby('month').distance.mean()\n",
    "sns.pointplot(group7.index, group7.values)\n",
    "plt.ylabel('Distance (km)')\n",
    "plt.show()"
   ]
  },
  {
   "cell_type": "markdown",
   "metadata": {
    "_uuid": "1faf1ad1cf8d01b0ba76c77114a39a86124130a8"
   },
   "source": [
    "Here also the distibution is almost equivalent, varying mostly around 3.5 km/h with 5th month being the highest in the average distance and 2nd month being the lowest."
   ]
  },
  {
   "cell_type": "markdown",
   "metadata": {
    "_uuid": "da27c86ad30fe66a60bc37bf1dc2e5c3fb1d6420"
   },
   "source": [
    "<a id=vendor_distance></a>\n",
    "## Distance per vendor\n",
    "***\n",
    "Let's check how both the vendors have covered the average distance during the trips"
   ]
  },
  {
   "cell_type": "code",
   "execution_count": null,
   "metadata": {
    "_uuid": "915e010ab3c6e47efbfe4afc1a68386faca293e7"
   },
   "outputs": [],
   "source": [
    "group8 = data.groupby('vendor_id').distance.mean()\n",
    "sns.barplot(group8.index, group8.values)\n",
    "plt.ylabel(\"Distance km\")\n",
    "plt.show()"
   ]
  },
  {
   "cell_type": "markdown",
   "metadata": {
    "_uuid": "f641a1f2026cd9dec6edcc0327a6f4f161912452"
   },
   "source": [
    "This is more or less same picture with both the vendors. Nothing more to analyze in this."
   ]
  },
  {
   "cell_type": "markdown",
   "metadata": {
    "_uuid": "e2daecf5494300bae0228234d42dfd29e7cfa2c0"
   },
   "source": [
    "<a id=flag_distance></a>\n",
    "## Distance v/s Flag\n",
    "***\n",
    "Let's visualize if there is any effect of Flag setting on the distance covered in the trips"
   ]
  },
  {
   "cell_type": "code",
   "execution_count": null,
   "metadata": {
    "_uuid": "4e04aa9fb2921988fd7d03ba67642c3ceefc09d0",
    "scrolled": true
   },
   "outputs": [],
   "source": [
    "plt.figure(figsize = (6,6))\n",
    "plot_dist = data.loc[(data.distance < 100)]\n",
    "sns.boxplot(x = \"flag_Y\", y = \"distance\", data = plot_dist)\n",
    "plt.ylabel('Distance (km)')\n",
    "plt.show()"
   ]
  },
  {
   "cell_type": "markdown",
   "metadata": {
    "_uuid": "d1936db1a5981e2755cda84f3e4fcc2cab5fa38e"
   },
   "source": [
    "### Observations:\n",
    "- We can see almost similar results like the one observed in the Trip duration v/s Flag analysis.\n",
    "- Only two major difference can be seen here.\n",
    " 1. Interquartile range of distance is almost twice for Flag 'Y' trips as compared to the Flag 'N' trips\n",
    " 2. Median value is much different in both the case as well.\n",
    "\n",
    "Which points us to the fact that range of distance and trip duration for the Flag 'Y' trips is much more limited and confined as compared with the flag 'N' trips and this also resulted in much less number of outliers for Flag 'Y' trips."
   ]
  },
  {
   "cell_type": "markdown",
   "metadata": {
    "_uuid": "1384bab2b4aafbca100f3105993ec5684101b9d0"
   },
   "source": [
    "<a id=duration_distance></a>\n",
    "## Distance v/s Trip duration\n",
    "***\n",
    "Let's visualize the relationship between Distance covered and respective trip duration."
   ]
  },
  {
   "cell_type": "code",
   "execution_count": null,
   "metadata": {
    "_uuid": "c83c516774d2c17eb6984f74b05f4f84cddf0752",
    "scrolled": true
   },
   "outputs": [],
   "source": [
    "plt.scatter(data.trip_duration, data.distance , s=1, alpha=0.5)\n",
    "plt.ylabel('Distance')\n",
    "plt.xlabel('Trip Duration')\n",
    "plt.show()"
   ]
  },
  {
   "cell_type": "markdown",
   "metadata": {
    "_uuid": "598ababcc7fbe0a5a61a5a35bcef91d65462b6db"
   },
   "source": [
    "### Interesting find:\n",
    "- There are lots of trips which covered negligible distance but clocked more than 20,000 seconds in terms of the Duration.\n",
    "- Initially there is some proper correlation between the distance covered and the trip duration in the graph. but later on it all seems uncorrelated.\n",
    "- There were few trips which covered huge distance of approx 200 kms within very less time frame, which is unlikely and should be treated as outliers.\n",
    "\n",
    "Let's focus on the graph area where distance is < 50 km and duration is < 1000 seconds."
   ]
  },
  {
   "cell_type": "code",
   "execution_count": null,
   "metadata": {
    "_uuid": "adf5d2d0424628b2a0c9049fd31bb4dc668fc48e",
    "scrolled": false
   },
   "outputs": [],
   "source": [
    "dur_dist = data.loc[(data.distance < 50) & (data.trip_duration < 1000), ['distance','trip_duration']]\n",
    "plt.scatter(dur_dist.trip_duration, dur_dist.distance , s=1, alpha=0.5)\n",
    "plt.ylabel('Distance')\n",
    "plt.xlabel('Trip Duration')\n",
    "plt.show()"
   ]
  },
  {
   "cell_type": "markdown",
   "metadata": {
    "_uuid": "6bd2956c2ab6b2f268a9f7d199ffb1031edc12fc"
   },
   "source": [
    "### Observations:\n",
    "- There should have been a linear relationship between the distance covered and trip duration on an average but we can see dense collection of the trips in the lower right corner which showcase many trips with the inconsistent readings.\n",
    "\n",
    "### Idea:\n",
    "We should remove those trips which covered 0 km distance but clocked more than 1 minute to make our data more consistent for predictive model. Because if the trip was cancelled after booking, than that should not have taken more than a minute time. This is our assumption."
   ]
  },
  {
   "cell_type": "code",
   "execution_count": null,
   "metadata": {
    "_uuid": "4c1db20473e424d333e0a5989cfcf4b30903cedf"
   },
   "outputs": [],
   "source": [
    "data = data[~((data.distance == 0) & (data.trip_duration >= 60))]"
   ]
  },
  {
   "cell_type": "markdown",
   "metadata": {
    "_uuid": "2bac77233048ed7442cf3c15381500c80036cdc4"
   },
   "source": [
    "Now, Instead of looking at each and every trip, we should approximate and try to filter those trips which covered less than 1 km distance and but clocked more than an hour."
   ]
  },
  {
   "cell_type": "code",
   "execution_count": null,
   "metadata": {
    "_uuid": "5e7be687d599360ce945ce3b26d8d79e4c554cb9"
   },
   "outputs": [],
   "source": [
    "duo = data.loc[(data['distance'] <= 1) & (data['trip_duration'] >= 3600),['distance','trip_duration']].reset_index(drop=True)"
   ]
  },
  {
   "cell_type": "code",
   "execution_count": null,
   "metadata": {
    "_uuid": "0fa9ca21d2daee9cd3d89caffc09e3382807f69d"
   },
   "outputs": [],
   "source": [
    "sns.regplot(duo.distance, duo.trip_duration)\n",
    "plt.show()"
   ]
  },
  {
   "cell_type": "markdown",
   "metadata": {
    "_uuid": "98ab91cb03c040e692f8edbefe48fb5ccd341b03"
   },
   "source": [
    "### Observations:\n",
    " - Though the straight line tries to show some linear relation between the two. But there seems to be negligible correlation between these two metric as seen from the scatter plot where it should have been a linear distribution.\n",
    " - It is rarely occurs that customer keep sitting in the taxi for more than an hour and it does not travel for even 1 km.\n",
    " \n",
    "These should be removed to bring in more consistency to our results."
   ]
  },
  {
   "cell_type": "code",
   "execution_count": null,
   "metadata": {
    "_uuid": "f61bad0c3156e622fa4f4796358c1cf0b9a7e596"
   },
   "outputs": [],
   "source": [
    "data = data[~((data['distance'] <= 1) & (data['trip_duration'] >= 3600))]"
   ]
  },
  {
   "cell_type": "markdown",
   "metadata": {
    "_uuid": "a08e13598dd57d13d808f122c7df5dd2ba4e5b3c"
   },
   "source": [
    "<a id=speed_hour></a>\n",
    "## Average speed per hour\n",
    "***\n",
    "Let's look at the average speed of NYC Taxi per hour."
   ]
  },
  {
   "cell_type": "code",
   "execution_count": null,
   "metadata": {
    "_uuid": "d78f14a0e6b91f463adfdb2e7d78ba6e33616d1c",
    "scrolled": false
   },
   "outputs": [],
   "source": [
    "group9 = data.groupby('pickup_hour').speed.mean()\n",
    "sns.pointplot(group9.index, group9.values)\n",
    "plt.show()"
   ]
  },
  {
   "cell_type": "markdown",
   "metadata": {
    "_uuid": "4df83430f909310f460bd264ec2db692440203db"
   },
   "source": [
    "### Observation\n",
    "- The average trend is totally inline with the normal circumstances.\n",
    "- Average speed tend to increase after late evening and continues to increase gradually till the late early morning hours.\n",
    "- Average taxi speed is highest at 5 AM in the morning, then it declines steeply as the office hours approaches.\n",
    "- Average taxi speed is more or less same during the office hours i.e. from 8 AM till 6PM in the evening."
   ]
  },
  {
   "cell_type": "markdown",
   "metadata": {
    "_uuid": "23432bd57c127d5fe623bbb56ed45bf6a1dc71f3"
   },
   "source": [
    "<a id=speed_weekday></a>\n",
    "## Average speed per weekday\n",
    "***\n",
    "Let's visualize that on an average what is the speed of a taxi on any given weekday."
   ]
  },
  {
   "cell_type": "code",
   "execution_count": null,
   "metadata": {
    "_uuid": "0f355a70eee6d97cc20ab344615a9d00d9a590c3"
   },
   "outputs": [],
   "source": [
    "group10 = data.groupby('weekday_num').speed.mean()\n",
    "sns.pointplot(group10.index, group10.values)\n",
    "plt.show()"
   ]
  },
  {
   "cell_type": "markdown",
   "metadata": {
    "_uuid": "95b0c00aba1a188621c8ee0cc34305831e687598"
   },
   "source": [
    "### Observations\n",
    "- Average taxi speed is higher on weekend as compared to the weekdays which is obvious when there is mostly rush of office goers and business owners.\n",
    "- Even on monday the average taxi speed is shown higher which is quite surprising when it is one of the most busiest day after the weekend. There can be several possibility for such behaviour\n",
    " 1. Lot of customers who come back from outstation in early hours of Monday before 6 AM to attend office on time.\n",
    " 2. Early morning hours customers who come from the airports after vacation to attend office/business on time for the coming week.\n",
    "- There could be some more reasons as well which only a local must be aware of. \n",
    "- We also can't deny the anomalies in the dataset. which is quite cumbersome to spot in such a large dataset."
   ]
  },
  {
   "cell_type": "markdown",
   "metadata": {
    "_uuid": "4fdcd283aa2eef00598f6ec963725255c32dd8ad"
   },
   "source": [
    "<a id=passenger_vendor></a>\n",
    "## Passenger count per vendor\n",
    "***\n",
    "Let's try some different metric in the series i.e. passenger count. We will plot it agaist the vendor only because it will not be much helpful to plot it against hour, weekday or month like others as the passenger count should be a whole number and not a ratio. \n",
    "\n",
    "we will take mean as the aggregate measure because we already did the outlier analysis on this metric. So our results woudn't be affected by some extreme values. Also if we take median than it will return only 1 because majorty of the trips have been taken by single passenger. Let's take a look about it's distribution."
   ]
  },
  {
   "cell_type": "code",
   "execution_count": null,
   "metadata": {
    "_uuid": "ce873d99cf82e5f7c79656e6d2d4574af777c443",
    "scrolled": true
   },
   "outputs": [],
   "source": [
    "group9 = data.groupby('vendor_id').passenger_count.mean()\n",
    "sns.barplot(group9.index, group9.values)\n",
    "plt.ylabel('Passenger count')\n",
    "plt.show()"
   ]
  },
  {
   "cell_type": "markdown",
   "metadata": {
    "_uuid": "b62ee334782b28a07c309cfd2a2c6f1a4a90ad39"
   },
   "source": [
    "Clear difference between the two operators for the average passenger count in all trips. It seems that vendor 2 trips generally consist of 2 passengers as compared to the vendor 1 with 1 passenger. Let's bifurcate it further."
   ]
  },
  {
   "cell_type": "code",
   "execution_count": null,
   "metadata": {
    "_uuid": "bd8aa31383c58755eb412cb3df12ee0a39f33029",
    "scrolled": true
   },
   "outputs": [],
   "source": [
    "data.groupby('passenger_count').vendor_id.value_counts().reset_index(name='count').pivot(\"passenger_count\",\"vendor_id\",\"count\").plot(kind='bar')\n",
    "plt.show()"
   ]
  },
  {
   "cell_type": "markdown",
   "metadata": {
    "_uuid": "4a9b8fc24280508f86a4744f6d94d9d38375fbaf"
   },
   "source": [
    "### Interesting find\n",
    "- It seems that most of the big cars are served by the Vendor 2 including minivans because other than passenger 1, vendor 2 has majority in serving more than 1 passenger count and that explains it greater share of the market."
   ]
  },
  {
   "cell_type": "markdown",
   "metadata": {
    "_uuid": "6d12ac4efb732060e0a51a58ca1823f077873f07"
   },
   "source": [
    "<a id=basemap></a>\n",
    "## Basemap\n",
    "***\n",
    "We will utilize the matplotlib basemap toolkit library for plotting the maps. It is very lightweight and easy to use. Let's define a **map_marker** function for our purpose of visualizing long lat marker on the map."
   ]
  },
  {
   "cell_type": "code",
   "execution_count": null,
   "metadata": {
    "_uuid": "ebb893335e1b443ceafb71a9f70c53f2c395d850"
   },
   "outputs": [],
   "source": [
    "def map_marker(set):\n",
    "    # Import package for map\n",
    "    from mpl_toolkits.basemap import Basemap\n",
    "    plt.figure(figsize = (20,20))\n",
    "\n",
    "    # Set the limits of the map to the minimum and maximum coordinates\n",
    "    lat_min = data[\"pickup_latitude\"].min() - .2\n",
    "    lat_max = data[\"pickup_latitude\"].max() + .2\n",
    "    lon_min = data[\"pickup_longitude\"].min() - .2\n",
    "    lon_max = data[\"pickup_longitude\"].max() + .2\n",
    "\n",
    "    # Set the center of the map\n",
    "    cent_lat = (lat_min + lat_max) / 2\n",
    "    cent_lon = (lon_min + lon_max) / 2\n",
    "\n",
    "    #Create the Basemap object with required params.\n",
    "    map = Basemap(llcrnrlon=lon_min,\n",
    "                  llcrnrlat=lat_min,\n",
    "                  urcrnrlon=lon_max,\n",
    "                  urcrnrlat=lat_max,\n",
    "                  resolution='l',\n",
    "                  projection='tmerc',\n",
    "                  lat_0 = cent_lat,\n",
    "                  lon_0 = cent_lon)\n",
    "\n",
    "    #Style the map\n",
    "    map.drawmapboundary()\n",
    "    map.drawcoastlines()\n",
    "    map.fillcontinents()\n",
    "    map.drawcountries(linewidth=2)\n",
    "    map.drawstates()\n",
    "\n",
    "\n",
    "    #Fetch the long and lat in form of array\n",
    "    long = np.array(data[\"pickup_longitude\"])\n",
    "    lat = np.array(data[\"pickup_latitude\"])\n",
    "\n",
    "    x, y = map(long, lat)\n",
    "    map.plot(x, y,'ro', markersize=2, alpha=1)\n",
    "\n",
    "    plt.show()"
   ]
  },
  {
   "cell_type": "markdown",
   "metadata": {
    "_uuid": "8aebce275ee3e31c289465cdb0c6d825d3871035"
   },
   "source": [
    "<a id=pickup></a>\n",
    "## Taxi pickup locations\n",
    "***\n",
    "Let's call the map_marker function to visualize all the pickup locations in the dataset."
   ]
  },
  {
   "cell_type": "code",
   "execution_count": null,
   "metadata": {},
   "outputs": [],
   "source": [
    "pip install basemap"
   ]
  },
  {
   "cell_type": "code",
   "execution_count": null,
   "metadata": {
    "_uuid": "eb0b9b89e8fd563cfaf7de9682758ec9047bfca4"
   },
   "outputs": [],
   "source": [
    "map_marker(data)"
   ]
  },
  {
   "cell_type": "markdown",
   "metadata": {
    "_uuid": "1cb4340561be5e4183ea3a3a04b13edb01b13d13"
   },
   "source": [
    "### Interesting Find\n",
    "Here are some observations from the map:\n",
    " - One unusual pickup from the CA state.\n",
    " - There are quite a few pickup from the neighbouring state as well. Some are quite far and some very near to the NYC state.\n",
    "\n",
    "We should check the validity of the unusual pickup here and take corrective actions if necessary. Let's take a closer look."
   ]
  },
  {
   "cell_type": "code",
   "execution_count": null,
   "metadata": {
    "_uuid": "e08fc575275d8c76808ed22400371a20b672917c"
   },
   "outputs": [],
   "source": [
    "#CA state pickup\n",
    "data[data.pickup_longitude == data.pickup_longitude.min()]"
   ]
  },
  {
   "cell_type": "markdown",
   "metadata": {
    "_uuid": "811b264d145f54e243c1e79599721945c014c658"
   },
   "source": [
    "We can see that though the trip duration is approx 8 minutes still the distance travelled is just in few meters. Moreover the Lat and Lon readings are same. That is a **black** swan and should be removed for the consistency of the model. Let's remove it now."
   ]
  },
  {
   "cell_type": "code",
   "execution_count": null,
   "metadata": {
    "_uuid": "260f7c6d4ece4142284319c541f48e6f1af75537"
   },
   "outputs": [],
   "source": [
    "data = data[data.pickup_longitude != data.pickup_longitude.min()]"
   ]
  },
  {
   "cell_type": "markdown",
   "metadata": {
    "_uuid": "247b0ea3368b2e75bfaac5483fb48114c34e9c4d"
   },
   "source": [
    "Let's check whether those have been removed from the map or not?"
   ]
  },
  {
   "cell_type": "code",
   "execution_count": null,
   "metadata": {
    "_uuid": "da7968f6e3f22c42ab0004d0adfcd6fb53b28b3c"
   },
   "outputs": [],
   "source": [
    "map_marker(data)"
   ]
  },
  {
   "cell_type": "markdown",
   "metadata": {
    "_uuid": "c5a3ed23cacf7d3645c4d629a646bd134af4f83a"
   },
   "source": [
    "### Interesting find\n",
    "We can still see a marker in the CA state. \n",
    "\n",
    "### Idea\n",
    "Were there more than one pickups in the CA or the data is still not filtered?\n",
    "\n",
    "Let's check this again"
   ]
  },
  {
   "cell_type": "code",
   "execution_count": null,
   "metadata": {
    "_uuid": "f9cd650c59cf80be1a481651394cacf197fd1491"
   },
   "outputs": [],
   "source": [
    "data[data.pickup_longitude == data.pickup_longitude.min()]"
   ]
  },
  {
   "cell_type": "markdown",
   "metadata": {
    "_uuid": "30dabd863559e89de2e77ca6ec0c5261f252e7c7"
   },
   "source": [
    "So this one is a different pickup but with the same story like the previous one i.e. the trip duration is not in correlation with the distance covered.\n",
    "\n",
    "Let's remove this one as well and call up the map_marker to check the latest picture."
   ]
  },
  {
   "cell_type": "code",
   "execution_count": null,
   "metadata": {
    "_uuid": "d43156dd0a2e668df66aae0671ef09711f34989e"
   },
   "outputs": [],
   "source": [
    "data = data[data.pickup_longitude != data.pickup_longitude.min()]\n",
    "map_marker(data)"
   ]
  },
  {
   "cell_type": "markdown",
   "metadata": {
    "_uuid": "897a2c3cc6b4aa1d2de890d268751996fb44e5c2"
   },
   "source": [
    "### Interesting find\n",
    "- There are quite a few pickups being shown off the NYC coast i.e. in the Atlantic ocean. \n",
    "\n",
    "### Observations\n",
    "- Now most of the pickups are being shown in and around NYC area.\n",
    "- It would be cumbersome to track them and remove. We can ignore them as of now to focus more on NYC pickups."
   ]
  },
  {
   "cell_type": "markdown",
   "metadata": {
    "_uuid": "0a02c26f3428f6c19f48f989aea2d349cfeee7dc"
   },
   "source": [
    "<a id=nyc_pick></a>\n",
    "## NYC pickup locations\n",
    "***\n",
    "Now, let's focus on the taxi pickups in the NYC area. And for that we have to fix the Longitude and latitude to view only the NYC area map. Let's do that now and visualize the pickup locations."
   ]
  },
  {
   "cell_type": "code",
   "execution_count": null,
   "metadata": {
    "_uuid": "1163a569a5d3ec14dcf19a37686bbdae4c951df0"
   },
   "outputs": [],
   "source": [
    "plt.figure(figsize=(20,20))\n",
    "from mpl_toolkits.basemap import Basemap\n",
    "\n",
    "# Set the limits of the map to the minimum and maximum coordinates\n",
    "lat_min = 40.5\n",
    "lat_max = 40.9\n",
    "lon_min = -74.2\n",
    "lon_max = -73.7\n",
    "\n",
    "# Set the center of the map\n",
    "cent_lat = (lat_min + lat_max) / 2\n",
    "cent_lon = (lon_min + lon_max) / 2\n",
    "\n",
    "#Create the Basemap object with required params.\n",
    "map = Basemap(llcrnrlon=lon_min,\n",
    "              llcrnrlat=lat_min,\n",
    "              urcrnrlon=lon_max,\n",
    "              urcrnrlat=lat_max,\n",
    "              resolution='l',\n",
    "              projection='tmerc',\n",
    "              lat_0 = cent_lat,\n",
    "              lon_0 = cent_lon)\n",
    "\n",
    "#Style the map\n",
    "# map.drawcounties()\n",
    "\n",
    "#Fetch the long and lat in form of array\n",
    "long = np.array(data[\"pickup_longitude\"])\n",
    "lat = np.array(data[\"pickup_latitude\"])\n",
    "\n",
    "x, y = map(long, lat)\n",
    "map.plot(x, y,'bo', markersize=1, alpha=1)\n",
    "plt.xticks()\n",
    "plt.show()"
   ]
  },
  {
   "cell_type": "markdown",
   "metadata": {
    "_uuid": "16eb94f15c4ce346e2d99e59a3f46c236b44da07"
   },
   "source": [
    "### Interesting Find\n",
    " - We can see that most of the taxi pickups were done in the manhattan area as compared to the other areas in NYC.\n",
    " - A long trail towards the airport shows that the airport is situated quite far from the Manhattan area.\n",
    " \n",
    "### Observations\n",
    " - There must have been some long distance rides towards and from the airport.\n",
    " - Similarly the average duration for the rides picked-up to or for the airport would have been longer.\n"
   ]
  },
  {
   "cell_type": "markdown",
   "metadata": {
    "_uuid": "639540f6ba40c61cf4c03258beedfaaaf8ef2a4f"
   },
   "source": [
    "<a id=nyc_drop></a>\n",
    "## NYC dropoff locations\n",
    "***\n",
    "Now let's take a look at the taxi dropoff's"
   ]
  },
  {
   "cell_type": "code",
   "execution_count": null,
   "metadata": {
    "_uuid": "a03a7bb8820159109fa2268bb49d79c4115b2e70"
   },
   "outputs": [],
   "source": [
    "plt.figure(figsize=(20,20))\n",
    "\n",
    "# Set the limits of the map to the minimum and maximum coordinates\n",
    "lat_min = 40.5\n",
    "lat_max = 40.9\n",
    "lon_min = -74.2\n",
    "lon_max = -73.7\n",
    "\n",
    "# Set the center of the map\n",
    "cent_lat = (lat_min + lat_max) / 2\n",
    "cent_lon = (lon_min + lon_max) / 2\n",
    "\n",
    "#Create the Basemap object with required params.\n",
    "map = Basemap(llcrnrlon=lon_min,\n",
    "              llcrnrlat=lat_min,\n",
    "              urcrnrlon=lon_max,\n",
    "              urcrnrlat=lat_max,\n",
    "              resolution='l',\n",
    "              projection='tmerc',\n",
    "              lat_0 = cent_lat,\n",
    "              lon_0 = cent_lon)\n",
    "\n",
    "#Style the map\n",
    "# map.drawcounties()\n",
    "\n",
    "#Fetch the long and lat in form of array\n",
    "long = np.array(data[\"dropoff_longitude\"])\n",
    "lat = np.array(data[\"dropoff_latitude\"])\n",
    "\n",
    "x, y = map(long, lat)\n",
    "map.plot(x, y,'go', markersize=1, alpha=1)\n",
    "plt.xticks()\n",
    "plt.show()"
   ]
  },
  {
   "cell_type": "markdown",
   "metadata": {
    "_uuid": "4d41a84376ebaf5b97b67a90bbf1d3299a7aac20"
   },
   "source": [
    "### Interesting Find:\n",
    "\n",
    "Dropoff's are much more distributed around the NYC area where still most of the dropoff's were done in the Manhattan. \n",
    "\n",
    "### Question:\n",
    "\n",
    "Does that mean there were more dropoff's than the pickup's?\n",
    "\n",
    "### Idea:\n",
    "\n",
    "Though the dropoffs seems to be larger in number than the pickups. But we know that for each pickup we have a associated dropoffs in the dataset. It's just that the pickups were majorly concentrated in the Manhattan area."
   ]
  },
  {
   "cell_type": "markdown",
   "metadata": {
    "_uuid": "415fd5f1d5f02c7a4b0e7473dd6ee620c7033c0f"
   },
   "source": [
    "<a id=feature></a>\n",
    "## Feature Engineering\n",
    "***\n",
    "After looking at the dataset from different perspectives. Let's prepare our dataset before training our model. Since our dataset do not contain very large number of dimensions. We will first try to use feature selection instead of the feature extraction technique.\n",
    "\n",
    "<img src='https://www.netsoftlab.com/images/full-flash.gif' align='left'/>"
   ]
  },
  {
   "cell_type": "markdown",
   "metadata": {
    "_uuid": "a371e75cc06a5672c15ea0a36a3aee13b8194647"
   },
   "source": [
    "### Question: \n",
    "But what's the difference?\n",
    " - **Feature selection**: we select a subset of the original feature set based on the statistical significance of different parameters.\n",
    " > Example: Backward elimination, Forward selection, Recursive feature elimination\n",
    " - **Feature extraction**: we build a new set of features from the original feature set\n",
    " > Example: PCA, LDA, Kernel PCA"
   ]
  },
  {
   "cell_type": "markdown",
   "metadata": {
    "_uuid": "682c56e0d3dd4c830e8bb66fdf96acd1de3dc14c"
   },
   "source": [
    "<a id=select></a>\n",
    "## Feature Selection\n",
    "***\n",
    "#### Intuition\n",
    " - We will use **backward elimination** technique to select the best features to train our model. \n",
    " - It displays some statistical metrics with there significance value.\n",
    " - Like, It shows the **p** values for each feature as per its significance in the whole dataset.\n",
    " - It also shows the **adjusted R squared** values to identify whether removing or selecting the feature is beneficial or not.\n",
    " - For now we will only look at the P and adjusted R squared value to decide which features to keep and which needed to be removed.\n",
    " \n",
    "Let's assign the values to X & Y array from the dataset."
   ]
  },
  {
   "cell_type": "code",
   "execution_count": null,
   "metadata": {
    "_uuid": "851ce9abf169a6cd38de7342a2d8a993b898d8fe"
   },
   "outputs": [],
   "source": [
    "#First chech the index of the features and label\n",
    "list(zip( range(0,len(data.columns)),data.columns))"
   ]
  },
  {
   "cell_type": "code",
   "execution_count": null,
   "metadata": {
    "_uuid": "9ea89f44713bcdbb5885d6fffc3ccf287b9df51a"
   },
   "outputs": [],
   "source": [
    "Y = data.iloc[:,10].values\n",
    "X = data.iloc[:,range(15,61)].values"
   ]
  },
  {
   "cell_type": "markdown",
   "metadata": {
    "_uuid": "ce27c1bc0d9659868100955382ebf8091f3a5708"
   },
   "source": [
    "### Question: \n",
    "Why few features are not assigned to the X array like features at the index 2,3,10 were missed?\n",
    "\n",
    "### Idea:\n",
    " - **duration** variable assigned to Y because that is the dependent variable.\n",
    " - features such as  **id, timestamp** and **weekday** were not assigned to X array because they are of type object. And we need an array of float data type.\n",
    " \n",
    "#### Trick for backward elimination:\n",
    "General equation for multiple linear regression is like\n",
    "> Y = a0 + a1x1 + a2x2 + ... + anxn\n",
    "\n",
    "Since, we dont have x0 in our X array so the regressor won't consider the constant value of the equation i.e. **a0**.\n",
    "So to make it count in the equation we will append the selected feature set with a contant series of 1's as a first column. To make it appear like below equation to the statsmodel.\n",
    "> y = a0x0 + a1x1 + a2x2 + ... + anxn"
   ]
  },
  {
   "cell_type": "code",
   "execution_count": null,
   "metadata": {
    "_uuid": "8b2a29e3572bf66ef042746e80159320ad0f9180"
   },
   "outputs": [],
   "source": [
    "print(\"Let's append {} rows of 1's as the first column in the X array\".format(X.shape[0]))"
   ]
  },
  {
   "cell_type": "code",
   "execution_count": null,
   "metadata": {
    "_uuid": "c6d5b5bcca19a5139ddbfa4d16246fce9d004ef9"
   },
   "outputs": [],
   "source": [
    "X1 = np.append(arr = np.ones((X.shape[0],1)).astype(int), values = X, axis = 1)"
   ]
  },
  {
   "cell_type": "code",
   "execution_count": null,
   "metadata": {
    "_uuid": "a8c4e446c7a3f2c501e10c4429dc96829794cb1b"
   },
   "outputs": [],
   "source": [
    "X1.shape"
   ]
  },
  {
   "cell_type": "markdown",
   "metadata": {
    "_uuid": "4a504316ea238d41e977196416721e2754e9873f"
   },
   "source": [
    "There we go, our feature set is now ready for the feature selection model with 1s in the first column for a0 constant.\n",
    "\n",
    "Let's fit stats model on the X array to figure out an optimal set of features by recursively checking for the highest p value and removing the feature of that index.\n",
    "\n",
    "### Note:\n",
    "Here we will take the level of significance as 0.05 i.e. 5% which means that we will reject feature from the list of array and re-run the model till p value for all the features goes below .05 to find out the optimal combination for our model."
   ]
  },
  {
   "cell_type": "code",
   "execution_count": null,
   "metadata": {
    "_uuid": "3c3671cad62fb41da0171981ef02bddae5e0a703"
   },
   "outputs": [],
   "source": [
    "# X_opt = X1[:,[0,1,3,4,6,7,8,9,10,11]]\n",
    "# regressor_OLS = sm.OLS(endog = Y, exog = X_opt).fit()\n",
    "# regressor_OLS.summary()"
   ]
  },
  {
   "cell_type": "code",
   "execution_count": null,
   "metadata": {},
   "outputs": [],
   "source": [
    "pip install statsmodels --upgrade --user"
   ]
  },
  {
   "cell_type": "code",
   "execution_count": null,
   "metadata": {
    "_uuid": "88a5dccc2b7f40a393f22ec9c37c7df9028ecaf1"
   },
   "outputs": [],
   "source": [
    "#Select all the features in X array\n",
    "X_opt = X1[:,range(0,46)]\n",
    "regressor_OLS = sm.OLS(endog = Y, exog = X_opt).fit()\n",
    "\n",
    "#Fetch p values for each feature\n",
    "p_Vals = regressor_OLS.pvalues\n",
    "\n",
    "#define significance level for accepting the feature.\n",
    "sig_Level = 0.05\n",
    "\n",
    "#Loop to iterate over features and remove the feature with p value less than the sig_level\n",
    "while max(p_Vals) > sig_Level:\n",
    "    print(\"Probability values of each feature \\n\")\n",
    "    print(p_Vals)\n",
    "    X_opt = np.delete(X_opt, np.argmax(p_Vals), axis = 1)\n",
    "    print(\"\\n\")\n",
    "    print(\"Feature at index {} is removed \\n\".format(str(np.argmax(p_Vals))))\n",
    "    print(str(X_opt.shape[1]-1) + \" dimensions remaining now... \\n\")\n",
    "    regressor_OLS = sm.OLS(endog = Y, exog = X_opt).fit()\n",
    "    p_Vals = regressor_OLS.pvalues\n",
    "    print(\"=================================================================\\n\")\n",
    "    \n",
    "#Print final summary\n",
    "print(\"Final stat summary with optimal {} features\".format(str(X_opt.shape[1]-1)))\n",
    "regressor_OLS.summary()"
   ]
  },
  {
   "cell_type": "markdown",
   "metadata": {
    "_uuid": "751bca3bc99339ab63235bfc5e99a4430068240e"
   },
   "source": [
    "### Observations\n",
    "Finally we have reached the combination of optimum features with each feature having **p value < 0.05**. "
   ]
  },
  {
   "cell_type": "markdown",
   "metadata": {
    "_uuid": "a9908f6928cc3b2f0633062c5a046a631813d4a0"
   },
   "source": [
    "<a id=split></a>\n",
    "### Split Data\n",
    "Before training our model on the dataset, we need to split the dataset into training and testing datasets. This is required to train our model on the major part of our dataset and test the accuracy of the model on the minor part. Let's split it"
   ]
  },
  {
   "cell_type": "code",
   "execution_count": null,
   "metadata": {
    "_uuid": "294926fe461ba5f7beb8c7d3c4a0df8c40ad003c"
   },
   "outputs": [],
   "source": [
    "#Split raw data\n",
    "X_train, X_test, y_train, y_test = train_test_split(X,Y, random_state=4, test_size=0.2)\n",
    "\n",
    "#Split data from the feature selection group\n",
    "X_train_fs, X_test_fs, y_train_fs, y_test_fs = train_test_split(X_opt,Y, random_state=4, test_size=0.2)"
   ]
  },
  {
   "cell_type": "markdown",
   "metadata": {
    "_uuid": "76c03de9ce87d207640a43bfa4f4ba74889aebd0"
   },
   "source": [
    "This will divide our dataset randomly with a ratio of 80/20 where training set consists of more than 1 million records and test dataset with more than .35 million records. Let's train our model on the training set now."
   ]
  },
  {
   "cell_type": "markdown",
   "metadata": {
    "_uuid": "b633846650809662660af75d437c6d6f7503eabd"
   },
   "source": [
    "<a id=extract></a>\n",
    "## Feature Extraction\n",
    "***\n",
    "We will use PCA for feature extraction i.e. Principal Component Analysis. It is a statistical procedure that uses an orthogonal transformation to convert a set of observations of possibly correlated variables into a set of values of linearly uncorrelated variables called principal components"
   ]
  },
  {
   "cell_type": "markdown",
   "metadata": {
    "_uuid": "71ba9af81609ecf21c5346b16de6f4421b4f8824"
   },
   "source": [
    "### Split Data\n",
    "\n",
    "Lets split our data first before scaling the features"
   ]
  },
  {
   "cell_type": "code",
   "execution_count": null,
   "metadata": {
    "_uuid": "e0e5c5379ea91c4de585ccdf8cf12ffbf92affec"
   },
   "outputs": [],
   "source": [
    "X_train_pca, X_test_pca, y_train_pca, y_test_pca = train_test_split(X,Y, random_state=4, test_size=0.2)"
   ]
  },
  {
   "cell_type": "markdown",
   "metadata": {
    "_uuid": "ffbf3bd0adffc7f5f71b4d55ffe94bd2ce86b494"
   },
   "source": [
    "### Scale Data\n",
    "It is suggested to scale the input varibles first before applying PCA to standardise the variance and avoid the bias. Lets Scale the data using StandardScaler."
   ]
  },
  {
   "cell_type": "code",
   "execution_count": null,
   "metadata": {
    "_uuid": "4310a1fce76d6540018590b00734e8a51100daf2"
   },
   "outputs": [],
   "source": [
    "from sklearn.preprocessing import StandardScaler\n",
    "scaler = StandardScaler()\n",
    "X_train_pca = scaler.fit_transform(X_train_pca)\n",
    "X_test_pca = scaler.transform(X_test_pca)"
   ]
  },
  {
   "cell_type": "markdown",
   "metadata": {
    "_uuid": "3cc5f9ea826a0807b57db3695e412c284e49d207"
   },
   "source": [
    "### PCA application\n",
    "Let's apply PCA technique on the training features to understand how many principal components should we select for our model to capture atleast 90% variance. For that we will take help of plot and cumsum function of numpy package."
   ]
  },
  {
   "cell_type": "code",
   "execution_count": null,
   "metadata": {
    "_uuid": "31b1b5761ca07b3b3326a88d66a73d60d21a692c"
   },
   "outputs": [],
   "source": [
    "from sklearn.decomposition import PCA\n",
    "pca = PCA().fit(X_train_pca)\n",
    "plt.plot(np.cumsum(pca.explained_variance_ratio_))\n",
    "plt.xlabel(\"number of components\")\n",
    "plt.ylabel(\"Cumulative explained variance\")\n",
    "plt.show()"
   ]
  },
  {
   "cell_type": "code",
   "execution_count": null,
   "metadata": {
    "_uuid": "fd77e7d1f51ea4ee638a4531d697760869580e0e",
    "scrolled": true
   },
   "outputs": [],
   "source": [
    "arr = np.cumsum(np.round(pca.explained_variance_ratio_, decimals=4)*100)\n",
    "list(zip(range(1,len(arr)), arr))"
   ]
  },
  {
   "cell_type": "markdown",
   "metadata": {
    "_uuid": "f2788376327f8b33e7706d037a6f69ccad7957fc"
   },
   "source": [
    "### Observation\n",
    "- Here we can see that almost 40 variables are needed for capturing atleast 99% of the variance in the training dataset. Hence we will use the same set of variables."
   ]
  },
  {
   "cell_type": "code",
   "execution_count": null,
   "metadata": {
    "_uuid": "8b099b2323304758297378ad79ae5aa60b30e9dd"
   },
   "outputs": [],
   "source": [
    "pca_10 = PCA(n_components=40)\n",
    "X_train_pca = pca_10.fit_transform(X_train_pca)\n",
    "X_test_pca = pca_10.transform(X_test_pca)"
   ]
  },
  {
   "cell_type": "markdown",
   "metadata": {
    "_uuid": "4a0bed1f7feced50b1f50c3ea68e0621d1c47800"
   },
   "source": [
    "PCA is applied on the training and the test dataset. Our input features are now ready for the regression."
   ]
  },
  {
   "cell_type": "markdown",
   "metadata": {
    "_uuid": "99d85a7dbe2bb95d511fbbc14900025aeca370fc"
   },
   "source": [
    "<a id=corr></a>\n",
    "# Correlation Analysis\n",
    "***\n",
    "Correlation analysis is a method of statistical evaluation used to study the strength of a relationship between two or more, numerically measured, continuous variables. This analysis is useful when we need to check if there are possible connections between variables. We will utilize Heatmap for our analysis."
   ]
  },
  {
   "cell_type": "markdown",
   "metadata": {
    "_uuid": "c6eb80c652f2975369dc536c27e00aff3d6dbddc"
   },
   "source": [
    "<a id=heatmap></a>\n",
    "## Heatmap\n",
    "***\n",
    "A heatmap is a graphical representation of data that uses a system of color-coding to represent statistical relationship between different values.\n",
    "\n",
    "Let's plot the relationship between the features of the **Feature selection** group first\n"
   ]
  },
  {
   "cell_type": "code",
   "execution_count": null,
   "metadata": {
    "_uuid": "4142fb5ddc681b053615195fc7873fab3b22bb4e",
    "scrolled": false
   },
   "outputs": [],
   "source": [
    "plt.figure(figsize=(15,15))\n",
    "corr = pd.DataFrame(X_train_fs[:,1:]).corr()\n",
    "corr.index = pd.DataFrame(X_train_fs[:,1:]).columns\n",
    "sns.heatmap(corr, cmap='RdYlGn', vmin=-1, vmax=1, square=True)\n",
    "plt.title(\"Correlation Heatmap\", fontsize=16)\n",
    "plt.show()"
   ]
  },
  {
   "cell_type": "markdown",
   "metadata": {
    "_uuid": "02a0f9d033fddc250647c543a34786dd6f932bf9"
   },
   "source": [
    "### Observations\n",
    " - Some combinations of features shows slight correlation but not above 0.5.\n",
    " - Some features are infact negatively correlated.\n",
    " - But most of the features shows no correlation. Which is a good thing.\n",
    " \n",
    " All in all, we have a very good pack of attributes to train our model. Let's move ahead."
   ]
  },
  {
   "cell_type": "markdown",
   "metadata": {
    "_uuid": "072c49283ac4a5263828f43dc8a627e757d9f471"
   },
   "source": [
    "Let's now plot the relationship between the features of the **Feature extraction** group."
   ]
  },
  {
   "cell_type": "code",
   "execution_count": null,
   "metadata": {
    "_uuid": "bd5af6809f4770af31ed10523904275333b5d08e"
   },
   "outputs": [],
   "source": [
    "plt.figure(figsize=(15,15))\n",
    "corr = pd.DataFrame(X_train_pca).corr()\n",
    "corr.index = pd.DataFrame(X_train_pca).columns\n",
    "sns.heatmap(corr, cmap='RdYlGn', vmin=-1, vmax=1, square=True)\n",
    "plt.title(\"Correlation Heatmap\", fontsize=16)\n",
    "plt.show()"
   ]
  },
  {
   "cell_type": "markdown",
   "metadata": {
    "_uuid": "3d5ed97497a3d5b32722609e186be2c912e86638"
   },
   "source": [
    "### Observations\n",
    " - All of the features shows **NO** correlation at all. Because feature extraction removes all collinearity.\n",
    " \n",
    "Let's move on to the Model now."
   ]
  },
  {
   "cell_type": "markdown",
   "metadata": {
    "_uuid": "d9c6953642ce26d8ce97881a2a1d299b333404a3"
   },
   "source": [
    "<a id=model></a>\n",
    "# Model\n",
    "***\n",
    "We need a model to train on our dataset to serve our purpose of prediciting the NYC taxi trip duration given the other features as training and test set. Since our dependent variable contains continous values so we will use regression technique to predict our output."
   ]
  },
  {
   "cell_type": "markdown",
   "metadata": {
    "_uuid": "6cee3373d8af2cf5f165d6ac32ae6115f89484c3"
   },
   "source": [
    "<a id=lin_reg></a>\n",
    "## Multiple Linear Regression\n",
    "***\n",
    "It is used to explain the relationship between one continuous dependent variable and two or more independent variables. Let's proceed"
   ]
  },
  {
   "cell_type": "markdown",
   "metadata": {
    "_uuid": "7930fbae9b06587a20f7f0c33916f07fa3cf5eb8"
   },
   "source": [
    "<a id=train></a>\n",
    "## Model training\n",
    "***\n",
    "We will first try with the default instantiation of the regressor object without using any generalization parameter. We will also **not perform any scaling** of the features because linear regression model takes care of that inherently. This is a plus point to use Linear regression model. It is quite fast to train even on very large datasets. So considering the size of our dataset this seems to be the correct approach as of now. Let's see how it performs."
   ]
  },
  {
   "cell_type": "markdown",
   "metadata": {
    "_uuid": "5c4be933cc467e615ed4bfc0ef0f1375406b8d44"
   },
   "source": [
    "<img src='http://www.sixthcents.net/images/macbook.gif'/>"
   ]
  },
  {
   "cell_type": "code",
   "execution_count": null,
   "metadata": {
    "_uuid": "c449eb9f946b6671a55dd953110e197636aa77e6"
   },
   "outputs": [],
   "source": [
    "#Linear regressor for the raw data\n",
    "regressor = LinearRegression() \n",
    "regressor.fit(X_train,y_train) \n",
    "\n",
    "#Linear regressor for the Feature selection group\n",
    "regressor1 = LinearRegression() \n",
    "regressor1.fit(X_train_fs,y_train_fs) \n",
    "\n",
    "#Linear regressor for the Feature extraction group\n",
    "regressor2 = LinearRegression() \n",
    "regressor2.fit(X_train_pca,y_train_pca) "
   ]
  },
  {
   "cell_type": "markdown",
   "metadata": {
    "_uuid": "39798a96808b8bc9be1f918096bfc1acd436fc28"
   },
   "source": [
    "### Interesting find:\n",
    " - It took **approx 1 second to train the model** on dataset of more than 1 million records.\n",
    " - It is evident that Linear regression model is **extremely fast** to train on the high dimension datasets consisting of even **millions** of records.\n",
    " - Linear regression object for the feature extraction group took less time to train on the input features."
   ]
  },
  {
   "cell_type": "markdown",
   "metadata": {
    "_uuid": "9e3bd19282c17246a947b029f15bf54fdfb37bc2"
   },
   "source": [
    "<a id=predict></a>\n",
    "## Model prediction\n",
    "***\n",
    "So now, our model has been fitted to the training set. It's time to predict the dependent variable. Let's do that now."
   ]
  },
  {
   "cell_type": "code",
   "execution_count": null,
   "metadata": {
    "_uuid": "c69b2bf4f6d3e8b05c585f31b8514917355648f3"
   },
   "outputs": [],
   "source": [
    "#Predict from the test features of raw data\n",
    "y_pred = regressor.predict(X_test) \n",
    "\n",
    "#Predict from the test features of Feature Selection group\n",
    "y_pred = regressor1.predict(X_test_fs) \n",
    "\n",
    "#Predict from the test features of Feature Extraction group\n",
    "y_pred_pca = regressor2.predict(X_test_pca) "
   ]
  },
  {
   "cell_type": "markdown",
   "metadata": {
    "_uuid": "028eac8bb7dc1b92869d6de4e7e152d7b399d8a8"
   },
   "source": [
    "<a id=evaluate></a>\n",
    "## Model evaluation\n",
    "***\n",
    "We will evaluate our model's accuracy through two suggested metrics for the regression models. i.e. RMSE and variance score. Where RMSE of 0 and variance of 1 is considered as the best score for a prediction model."
   ]
  },
  {
   "cell_type": "code",
   "execution_count": null,
   "metadata": {
    "_uuid": "48cfa6e148270fab8733c6380ccd8a000e655571",
    "scrolled": true
   },
   "outputs": [],
   "source": [
    "#Evaluate the regressor on the raw data\n",
    "print('RMSE score for the Multiple LR raw is : {}'.format(np.sqrt(metrics.mean_squared_error(y_test,y_pred))))\n",
    "print('Variance score for the Multiple LR raw is : %.2f' % regressor.score(X_test, y_test))\n",
    "print(\"\\n\")\n",
    "\n",
    "#Evaluate the regressor on the Feature selection group\n",
    "print('RMSE score for the Multiple LR FS is : {}'.format(np.sqrt(metrics.mean_squared_error(y_test_fs,y_pred))))\n",
    "print('Variance score for the Multiple LR FS is : %.2f' % regressor1.score(X_test_fs, y_test_fs))\n",
    "print(\"\\n\")\n",
    "\n",
    "#Evaluate the regressor on the Feature extraction group\n",
    "print('RMSE score for the Multiple LR PCA is : {}'.format(np.sqrt(metrics.mean_squared_error(y_test_pca,y_pred_pca))))\n",
    "print('Variance score for the Multiple LR PCA is : %.2f' % regressor2.score(X_test_pca, y_test_pca))"
   ]
  },
  {
   "cell_type": "markdown",
   "metadata": {
    "_uuid": "21920220a59150fb8139f02f07b818029e600504"
   },
   "source": [
    "### Observations\n",
    " - Very poor **Root mean squared** value. \n",
    " - And the low **variance score** which is also bad.\n",
    " - Both the models i.e. from the feature selection and the feature extraction group resulted quite bad in prediction.\n",
    " \n",
    " **Let's find out the reason of this behaviour:-**"
   ]
  },
  {
   "cell_type": "code",
   "execution_count": null,
   "metadata": {
    "_uuid": "a2c6c79ed1e6a17103738aaa0b9d0d52b356345f"
   },
   "outputs": [],
   "source": [
    "X_train.shape"
   ]
  },
  {
   "cell_type": "code",
   "execution_count": null,
   "metadata": {
    "_uuid": "4f81cdb544e7b14b53f35664cfcaecb65357ebc9"
   },
   "outputs": [],
   "source": [
    "#Find linear correlation of each feature with the target variable\n",
    "from scipy.stats import pearsonr\n",
    "df1 = pd.DataFrame(np.concatenate((X_train,y_train.reshape(len(y_train),1)),axis=1))\n",
    "df1.columns = df1.columns.astype(str)\n",
    "\n",
    "features = df1.iloc[:,:46].columns.tolist()\n",
    "target = df1.iloc[:,46].name\n",
    "\n",
    "correlations = {}\n",
    "for f in features:\n",
    "    data_temp = df1[[f,target]]\n",
    "    x1 = data_temp[f].values\n",
    "    x2 = data_temp[target].values\n",
    "    key = f + ' vs ' + target\n",
    "    correlations[key] = pearsonr(x1,x2)[0]\n",
    "    \n",
    "data_correlations = pd.DataFrame(correlations, index=['Value']).T\n",
    "data_correlations.loc[data_correlations['Value'].abs().sort_values(ascending=False).index]"
   ]
  },
  {
   "cell_type": "markdown",
   "metadata": {
    "_uuid": "5edd01303ef870f542e467938247faaf3e20db15"
   },
   "source": [
    "### Observations\n",
    "We can see that none of the feature is linearly correlated with the target variable **\"46\"**. That is why it is not a good model for the prediction of the trip duration. So let's move ahead and try the **random forest regressor**. We are not using decision tree regressor because the random forest will anyways consist of almost all its properties. Also, we will not use SVR because it takes too much time to train on this huge dataset even with the default settings. It seems to be not good with high dimensional dataset as well as for the huge instances."
   ]
  },
  {
   "cell_type": "markdown",
   "metadata": {
    "_uuid": "8fe82cbd5239624341449e5be52ce2ca0a039f4a"
   },
   "source": [
    "<a id=rf_reg></a>\n",
    "## Random Forest Regressor\n",
    "***\n",
    "A random forest is a meta estimator that fits a number of classifying decision trees on various sub-samples of the dataset and use averaging to improve the predictive accuracy and control over-fitting"
   ]
  },
  {
   "cell_type": "markdown",
   "metadata": {
    "_uuid": "4557067213c5fb5fffa0bd1910bb406ea2701d1a"
   },
   "source": [
    "### Model training\n",
    "***\n",
    "Now we will train the model on the filtered features. Our data has already been split so we will not split the data further.\n",
    "\n",
    "#### Note:\n",
    "We used **GridSearch** to tune the **hyperparameters** of random forest regressor to get the best possible test score. We tried various combination of the allowed hyper params values. _But any kind of combination could not produce significantly better results than the default settings. There can be many reasons for that and it totally depends on the type of data we have in hand. Therefore we will not show tuned regressor results here._"
   ]
  },
  {
   "cell_type": "code",
   "execution_count": null,
   "metadata": {
    "_uuid": "2ffa1d0a74092fb5fd97b610ddcb89de50ed267c"
   },
   "outputs": [],
   "source": [
    "#instantiate the object for the Random Forest Regressor with default params from raw data\n",
    "regressor_rfraw = RandomForestRegressor(n_jobs=-1)\n",
    "\n",
    "#instantiate the object for the Random Forest Regressor with default params for Feature Selection Group\n",
    "regressor_rf = RandomForestRegressor(n_jobs=-1)\n",
    "\n",
    "# #instantiate the object for the Random Forest Regressor with tuned hyper parameters for Feature Selection Group\n",
    "# regressor_rf1 = RandomForestRegressor(n_estimators = 26,\n",
    "#                                      max_depth = 22,\n",
    "#                                      min_samples_split = 9,\n",
    "#                                      n_jobs=-1)\n",
    "\n",
    "#instantiate the object for the Random Forest Regressor for Feature Extraction Group\n",
    "regressor_rf2 = RandomForestRegressor(n_jobs=-1)\n",
    "\n",
    "\n",
    "#Train the object with default params for raw data\n",
    "regressor_rfraw.fit(X_train,y_train)\n",
    "\n",
    "#Train the object with default params for Feature Selection Group\n",
    "regressor_rf.fit(X_train_fs,y_train_fs)\n",
    "\n",
    "# #Train the object with tuned params for Feature Selection Group\n",
    "# regressor_rf1.fit(X_train_fs,y_train_fs)\n",
    "\n",
    "# #Train the object with default params for Feature Extraction Group\n",
    "regressor_rf2.fit(X_train_pca,y_train_pca)\n",
    "\n",
    "print(\"\\n\")"
   ]
  },
  {
   "cell_type": "markdown",
   "metadata": {
    "_uuid": "40e71ac7ed49c1a1f22b6fac2ac456c51f41205f"
   },
   "source": [
    "### Model prediction"
   ]
  },
  {
   "cell_type": "code",
   "execution_count": null,
   "metadata": {
    "_uuid": "6ea6b7d05b9caedd3780314325ac6e56ea83df1c"
   },
   "outputs": [],
   "source": [
    "#Predict the output with object of default params for Feature Selection Group\n",
    "y_pred_rfraw = regressor_rfraw.predict(X_test)\n",
    "\n",
    "#Predict the output with object of default params for Feature Selection Group\n",
    "y_pred_rf = regressor_rf.predict(X_test_fs)\n",
    "\n",
    "# #Predict the output with object of hyper tuned params for Feature Selection Group\n",
    "# y_pred_rf1 = regressor_rf1.predict(X_test_fs)\n",
    "\n",
    "#Predict the output with object of PCA params for Feature Extraction Group\n",
    "y_pred_rfpca = regressor_rf2.predict(X_test_pca)\n",
    "\n",
    "print(\"\\n\")"
   ]
  },
  {
   "cell_type": "markdown",
   "metadata": {
    "_uuid": "c365c3544c64a5ca3782b1f06e7c2c7931e0b068"
   },
   "source": [
    "### Model evaluation"
   ]
  },
  {
   "cell_type": "code",
   "execution_count": null,
   "metadata": {
    "_uuid": "412cccc46b068eff3fa4c2ef16b41f65360da372",
    "scrolled": false
   },
   "outputs": [],
   "source": [
    "#Evaluate the model with default params for raw data\n",
    "print('RMSE score for the RF regressor raw is : {}'.format(np.sqrt(metrics.mean_squared_error(y_test,y_pred_rfraw))))\n",
    "print('RMSLE score for the RF regressor raw is : {}'.format(np.sqrt(metrics.mean_squared_log_error(y_test,y_pred_rfraw))))\n",
    "print('Variance score for the RF regressor raw is : %.2f' % regressor_rfraw.score(X_test, y_test))\n",
    "\n",
    "print(\"\\n\")\n",
    "\n",
    "#Evaluate the model with default params for Feature Selection Group\n",
    "print('RMSE score for the RF regressor is : {}'.format(np.sqrt(metrics.mean_squared_error(y_test_fs,y_pred_rf))))\n",
    "print('RMSLE score for the RF regressor is : {}'.format(np.sqrt(metrics.mean_squared_log_error(y_test_fs,y_pred_rf))))\n",
    "print('Variance score for the RF regressor is : %.2f' % regressor_rf.score(X_test_fs, y_test_fs))\n",
    "\n",
    "# print(\"\\n\")\n",
    "\n",
    "# #Evaluate the model with tuned params for Feature Selection Group\n",
    "# print('RMSE score for the RF regressor1 is : {}'.format(np.sqrt(metrics.mean_squared_error(y_test_fs,y_pred_rf1))))\n",
    "# print('RMSLE score for the RF regressor1 is : {}'.format(np.sqrt(metrics.mean_squared_log_error(y_test_fs,y_pred_rf1))))\n",
    "# print('Variance score for the RF regressor1 is : %.2f' % regressor_rf1.score(X_test_fs, y_test_fs))\n",
    "\n",
    "print(\"\\n\")\n",
    "\n",
    "#Evaluate the model with PCA params  for Feature Extraction Group\n",
    "print('RMSE score for the RF regressor2 is : {}'.format(np.sqrt(metrics.mean_squared_error(y_test_pca, y_pred_rfpca))))\n",
    "print('Variance score for the RF regressor2 is : %.2f' % regressor_rf2.score(X_test_pca, y_test_pca))"
   ]
  },
  {
   "cell_type": "markdown",
   "metadata": {
    "_uuid": "2d2d33966680f041c2383a13233da37644b43667"
   },
   "source": [
    "### Interesting find\n",
    "- There is approx **200% improvement** on the RMSE score for the Random forest regressor over the Linear regressor of the feature selection group.\n",
    "- Even the variance score is approx 1 which is a good score.\n",
    "- RMSE score for the RF regressor of feature extraction group is still very bad along with the variance score.\n",
    "- RMSE score for the feature selection group is more or less same as the raw data score. Sometimes the RMSE score for the raw data is better and vice versa. It fluctuates on every iteration and this is quite weird!\n",
    "\n",
    "Let's see if we can improve this further with the most sought after algorigthm i.e. XGBoost!!"
   ]
  },
  {
   "cell_type": "markdown",
   "metadata": {
    "_uuid": "a681be63e7f9aae36c47474f76adf296506f5cd7"
   },
   "source": [
    "<a id=xgboost></a>\n",
    "## XGBoost Regressor\n",
    "***\n",
    "XGBoost (Extreme Gradient Boosting) is an optimized distributed gradient boosting library. It uses gradient boosting (GBM) framework at core. It belongs to a family of boosting algorithms that convert weak learners into strong learners. A weak learner is one which is slightly better than random guessing.\n",
    "\n",
    "'Boosting' here is a sequential process; i.e., trees are grown using the information from a previously grown tree one after the other. This process slowly learns from data and tries to improve its prediction in the subsequent iterations."
   ]
  },
  {
   "cell_type": "markdown",
   "metadata": {
    "_uuid": "a40548a35a1d00820017f70c5d40fce6331ec467"
   },
   "source": [
    "### Model training\n",
    "***\n",
    "We will train the model on the filtered features. Our data has already been split so we will not split the data further.\n",
    "\n",
    "#### Note:\n",
    "We used **GridSearch** to tune the **hyperparameters** of XGBoost regressor to get the best possible test score.  We will compare results from the default regressor and the tuned regressor."
   ]
  },
  {
   "cell_type": "code",
   "execution_count": null,
   "metadata": {
    "_uuid": "e90d88da41a755da03c47c4f5cb6d3c876599110"
   },
   "outputs": [],
   "source": [
    "#instantiate the object for the XGBoost Regressor with default params for raw data\n",
    "regressor_xgbraw = XGBRegressor(n_jobs=-1)\n",
    "\n",
    "#instantiate the object for the XGBoost Regressor with default params for Feature Selection Group\n",
    "regressor_xgb = XGBRegressor(n_jobs=-1)\n",
    "\n",
    "#instantiate the object for the XGBoost Regressor with tuned hyper parameters for Feature Selection Group\n",
    "regressor_xgb1 = XGBRegressor(n_estimators=300,\n",
    "                            learning_rate=0.08,\n",
    "                            gamma=0,\n",
    "                            subsample=0.75,\n",
    "                            colsample_bytree=1,\n",
    "                            max_depth=7,\n",
    "                            min_child_weight=4,\n",
    "                            silent=1,\n",
    "                           n_jobs=-1)\n",
    "\n",
    "#instantiate the object for the XGBoost Regressor for Feature Extraction Group\n",
    "regressor_xgb2 = XGBRegressor(n_jobs=-1)\n",
    "\n",
    "\n",
    "#Train the object with default params for raw data\n",
    "regressor_xgbraw.fit(X_train,y_train)\n",
    "\n",
    "#Train the object with default params for Feature Selection Group\n",
    "regressor_xgb.fit(X_train_fs,y_train_fs)\n",
    "\n",
    "#Train the object with tuned params for Feature Selection Group\n",
    "regressor_xgb1.fit(X_train_fs,y_train_fs)\n",
    "\n",
    "#Train the object with default params for Feature Extraction Group\n",
    "regressor_xgb2.fit(X_train_pca,y_train_pca)\n",
    "\n",
    "print(\"\\n\")"
   ]
  },
  {
   "cell_type": "markdown",
   "metadata": {
    "_uuid": "5aa6f34eacb0c3b9e330e7bb549592aa6da78c99"
   },
   "source": [
    "### Model prediction"
   ]
  },
  {
   "cell_type": "code",
   "execution_count": null,
   "metadata": {
    "_uuid": "2692f5763e0198599298a4ced40fc448376e013c"
   },
   "outputs": [],
   "source": [
    "#Predict the output with object of default params for raw data\n",
    "y_pred_xgbraw = regressor_xgbraw.predict(X_test)\n",
    "\n",
    "#Predict the output with object of default params for Feature Selection Group\n",
    "y_pred_xgb = regressor_xgb.predict(X_test_fs)\n",
    "\n",
    "#Predict the output with object of hyper tuned params for Feature Selection Group\n",
    "y_pred_xgb1 = regressor_xgb1.predict(X_test_fs)\n",
    "\n",
    "#Predict the output with object of PCA params for Feature Extraction Group\n",
    "y_pred_xgb_pca = regressor_xgb2.predict(X_test_pca)\n",
    "\n",
    "print(\"\\n\")"
   ]
  },
  {
   "cell_type": "markdown",
   "metadata": {
    "_uuid": "7bb60730f16a6655d175bfc37d763aed5122d458"
   },
   "source": [
    "### Model Evaluation"
   ]
  },
  {
   "cell_type": "code",
   "execution_count": null,
   "metadata": {
    "_uuid": "de23e7db19b59f89db601991d85c36f62bf801c5"
   },
   "outputs": [],
   "source": [
    "#Evaluate the model with default params for raw data\n",
    "print('RMSE score for the XGBoost regressor raw is : {}'.format(np.sqrt(metrics.mean_squared_error(y_test,y_pred_xgbraw))))\n",
    "# print('RMSLE score for the XGBoost regressor is : {}'.format(np.sqrt(metrics.mean_squared_log_error(y_test,y_pred_xgb))))\n",
    "print('Variance score for the XGBoost regressor raw is : %.2f' % regressor_xgbraw.score(X_test, y_test))\n",
    "\n",
    "print(\"\\n\")\n",
    "\n",
    "#Evaluate the model with default params for Feature Selection Group\n",
    "print('RMSE score for the XGBoost regressor is : {}'.format(np.sqrt(metrics.mean_squared_error(y_test_fs,y_pred_xgb))))\n",
    "# print('RMSLE score for the XGBoost regressor is : {}'.format(np.sqrt(metrics.mean_squared_log_error(y_test,y_pred_xgb))))\n",
    "print('Variance score for the XGBoost regressor is : %.2f' % regressor_xgb.score(X_test_fs, y_test_fs))\n",
    "\n",
    "print(\"\\n\")\n",
    "\n",
    "#Evaluate the model with Tuned params for Feature Selection Group\n",
    "print('RMSE score for the XGBoost regressor1 is : {}'.format(np.sqrt(metrics.mean_squared_error(y_test_fs,y_pred_xgb1))))\n",
    "# print('RMSLE score for the XGBoost regressor1 is : {}'.format(np.sqrt(metrics.mean_squared_log_error(y_test_fs,y_pred_xgb1))))\n",
    "print('Variance score for the XGBoost regressor1 is : %.2f' % regressor_xgb1.score(X_test_fs,y_test_fs))\n",
    "\n",
    "print(\"\\n\")\n",
    "\n",
    "#Evaluate the model with PCA params  for Feature Extraction Group\n",
    "print('RMSE score for the XGBoost regressor2 is : {}'.format(np.sqrt(metrics.mean_squared_error(y_test_pca, y_pred_xgb_pca))))\n",
    "print('Variance score for the XGBoost regressor2 is : %.2f' % regressor_xgb2.score(X_test_pca, y_test_pca))"
   ]
  },
  {
   "cell_type": "markdown",
   "metadata": {
    "_uuid": "5761e0d567d22d19aff8a5f8a13ee66c0998e88f"
   },
   "source": [
    "### Observations\n",
    "- There is a significant **improvement** in the RMSE score for the **tuned** XGBoost regressor over the Random forest regressor when trained on the feature selection group.\n",
    "- But the performance of the **default** XGBoost regressor is quite **worse** than the default RF regressor on the same data.\n",
    "- Also, the RMSE score on the raw data and feature selected data are same, which disproves the theory that it is always better to select the relevant features which are statistically important. As the data behaves differently in different models.\n",
    "- Not to mention the fact that RMSE score for the XGBoost regressor of the feature extraction group is still bad along with the variance score. "
   ]
  },
  {
   "cell_type": "code",
   "execution_count": null,
   "metadata": {
    "_uuid": "d4470e5ab98e282ef9719d8ffa3bf5e487886273"
   },
   "outputs": [],
   "source": [
    "#Comparing test results for the XGBoost and RF regressor\n",
    "print(\"Total sum of difference between the actual and the predicted values for the RF regressor is : %d\"%np.abs(np.sum(np.subtract(y_test,y_pred_rf))))\n",
    "print(\"Total sum of difference between the actual and the predicted values for the tuned XGB regressor is : %d\"%np.abs(np.sum(np.subtract(y_test,y_pred_xgb1))))"
   ]
  },
  {
   "cell_type": "markdown",
   "metadata": {
    "_uuid": "f102c2ed48c1f97a16a522511d39b64ea17c7e15"
   },
   "source": [
    "### General inference\n",
    "- XGBoost proved to be much more efficient in predicting the output. But it takes much more time to train it over the large dataset wih more complexity as compared to the RF and Linear regression model but less time then the SVR.\n",
    "- It didn't helped us much to generalize the model by tuning hyper parameters for the RF model as there is not much difference in the RMSE scores of the default model and the tuned model of the feature selection group infact both varies on every iteration and sometimes the tuned model gives poor results than the default model. Though we tried many possible alterations with GSCV but the tuning could not achieve a significant improvement over the default model which also depends on the contents of the dataset.\n",
    "- Contrast to the RF regressor, XGBoost regressor prediction results were consistent on every iteration i.e. for each param configuration the results were the same.\n",
    "- Feature extraction didn't helped in anyway to improve the RMSE score with any of the regressor models. This shows us that the feature extraction is somewhat not a good technique to preprocess the data before feeding it into the regressor models for the continous target value prediction. Whereas it also depends on the type and features of data that how it behaves with the model."
   ]
  },
  {
   "cell_type": "markdown",
   "metadata": {
    "_uuid": "564d4a6ad15ee0f9ff60411c5f7620f4c9bc984f"
   },
   "source": [
    "<a id=curve></a>\n",
    "## Learning curves\n",
    "***\n",
    "Learning curves constitute a great tool to diagnose bias and variance in any supervised learning algorithm. It shows how error changes as the training set size increases. We'll use the learning_curve() [function](http://scikit-learn.org/stable/modules/generated/sklearn.model_selection.learning_curve.html) from the scikit-learn library to generate a learning curve for the regression model. There's no need to put aside a validation set because learning_curve() will take care of that and that's why we will plot the learning curve over whole dataset."
   ]
  },
  {
   "cell_type": "code",
   "execution_count": null,
   "metadata": {
    "_uuid": "fa7b71b28ecee524fcebebd260bbef6557788e84"
   },
   "outputs": [],
   "source": [
    "#Define a function to plot learning curve.\n",
    "def learning_curves(estimator, title, features, target, train_sizes, cv, n_jobs=-1):\n",
    "    plt.figure(figsize = (14,5))\n",
    "    train_sizes, train_scores, validation_scores = learning_curve(estimator, features, target, train_sizes = train_sizes, cv = cv, scoring = 'neg_mean_squared_error',  n_jobs=n_jobs)\n",
    "    train_scores_mean = -train_scores.mean(axis = 1)\n",
    "    validation_scores_mean = -validation_scores.mean(axis = 1)\n",
    "    \n",
    "    plt.grid()\n",
    "    \n",
    "    plt.plot(train_sizes, train_scores_mean,'o-', color=\"r\", label = 'Training error')\n",
    "    plt.plot(train_sizes, validation_scores_mean,'o-', color=\"g\", label = 'Validation error')\n",
    "\n",
    "    plt.ylabel('MSE', fontsize = 14)\n",
    "    plt.xlabel('Training set size', fontsize = 14)\n",
    "    \n",
    "    title = 'Learning curves for a ' + title + ' model'\n",
    "    plt.title(title, fontsize = 18, loc='left')\n",
    "    \n",
    "    plt.legend(loc=\"best\")\n",
    "    \n",
    "    return plt\n",
    "\n",
    "# score curves, each time with 20% data randomly selected as a validation set.\n",
    "cv = ShuffleSplit(n_splits=10, test_size=0.2, random_state=4)\n",
    "\n",
    "# Plot learning curve for the RF Regressor\n",
    "title = \"Random Forest Regressor\"\n",
    "\n",
    "# Call learning curve with all dataset i.e. traininig and test combined because CV will take of data split.\n",
    "learning_curves(regressor_rf, title, X_opt,Y, train_sizes=np.linspace(.1, 1.0, 5), cv=cv, n_jobs=-1)\n",
    "\n",
    "#Plot learning curve for the XGBoost Regressor\n",
    "title = \"XGBoost Regressor\"\n",
    "\n",
    "# Call learning curve on less number of estimators than the tuned estimator because it took too much time for the compilation.\n",
    "learning_curves(XGBRegressor(n_estimators=111,\n",
    "                            learning_rate=0.08,\n",
    "                            gamma=0,\n",
    "                            subsample=0.75,\n",
    "                            colsample_bytree=1,\n",
    "                            max_depth=7,\n",
    "                            min_child_weight=4,\n",
    "                            silent=1), title, X_opt,Y, train_sizes=np.linspace(.1, 1.0, 5), cv=cv, n_jobs=-1)\n",
    "\n",
    "plt.show()"
   ]
  },
  {
   "cell_type": "markdown",
   "metadata": {
    "_uuid": "8096e5ecc3cb455a10ef2e7bc4a95ad6401d1ba4"
   },
   "source": [
    "### Observations:\n",
    "- We can observe that both the models shows somewhat similar learning rate but with visible differences in error rates. \n",
    "- RF training curve initially starts high but later on improves as the training size increases and then seems to plateaud by the end.\n",
    "- XGBoost training curve on the other hand starts quite low and further improves with the increase in the training size and it too plateau towards the end.\n",
    "- Validation curve seems to show similar trend in both the models i.e. starts very high but improves with the training size with some differences in error rate i.e. XGBoost curve learning is quite fast and more accurate as compared to the RF one.\n",
    "- Both the models seems to suffer from **high variance** since the training curve error is very less in both the models.\n",
    "- The large gap at the end also indicates that the model suffers from quite a **low bias** i.e. overfitting the training data.\n",
    "- Also, both the model's still has potential to decrease and converge towards the training curve by the end.\n",
    "\n",
    "**At this point, here are a few things we could do to improve our model:**\n",
    "\n",
    "1. Add more training instances to improve validation curve in the XGBoost model.\n",
    "2. Increase the regularization for the learning algorithm. This should decrease the variance and increase the bias towards the validation curve.\n",
    "3. Reduce the numbers of features in the training data that we currently use. The algorithm will still fit the training data very well, but due to the decreased number of features, it will build less complex models. This should increase the bias and decrease the variance."
   ]
  },
  {
   "cell_type": "markdown",
   "metadata": {
    "_uuid": "221869e0f77b282bf831831dcf389438cc2f5c24"
   },
   "source": [
    "<a id=final></a>\n",
    "## End Notes\n",
    "***\n",
    "In this project we covered various aspects of the Machine learning development cycle. We observed that the data exploration and variable analysis is a very important aspect of the whole cycle and should be done for thorough understanding of the data. We also cleaned the data while exploring as there were some outliers which should be treated before feature engineering. Further we did feature engineering to filter and gather only the optimal features which are more significant and covered most of the variance in the dataset. Then finally we trained the models on the optimum featureset to get the results. "
   ]
  },
  {
   "cell_type": "markdown",
   "metadata": {
    "_uuid": "2b5f46263f21b97a65b351890a396592dfaad547"
   },
   "source": [
    "## Thank you guys... Yayyy!!!!"
   ]
  },
  {
   "cell_type": "code",
   "execution_count": null,
   "metadata": {},
   "outputs": [],
   "source": []
  }
 ],
 "metadata": {
  "kernelspec": {
   "display_name": "Python 3 (ipykernel)",
   "language": "python",
   "name": "python3"
  },
  "language_info": {
   "codemirror_mode": {
    "name": "ipython",
    "version": 3
   },
   "file_extension": ".py",
   "mimetype": "text/x-python",
   "name": "python",
   "nbconvert_exporter": "python",
   "pygments_lexer": "ipython3",
   "version": "3.9.12"
  }
 },
 "nbformat": 4,
 "nbformat_minor": 1
}
